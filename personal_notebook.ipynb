{
 "cells": [
  {
   "cell_type": "code",
   "execution_count": 1,
   "id": "8d95111e",
   "metadata": {},
   "outputs": [],
   "source": [
    "import os\n",
    "import json\n",
    "from typing import Dict, List, Optional, Union, cast\n",
    "import requests\n",
    "from bs4 import BeautifulSoup\n",
    "from env import github_token, github_username\n",
    "import re\n",
    "import pandas as pd\n",
    "import time\n",
    "from requests import get"
   ]
  },
  {
   "cell_type": "code",
   "execution_count": 2,
   "id": "249b78bc",
   "metadata": {},
   "outputs": [],
   "source": [
    "import unicodedata\n",
    "import re\n",
    "import json\n",
    "# nltk, tokenization, stopwords\n",
    "import nltk\n",
    "from nltk.tokenize.toktok import ToktokTokenizer\n",
    "from nltk.corpus import stopwords\n",
    "# pandas dataframe manipulation, acquire script, time formatting\n",
    "import pandas as pd\n",
    "import acquire\n",
    "from time import strftime\n",
    "import numpy as np\n",
    "import warnings\n",
    "warnings.filterwarnings('ignore')"
   ]
  },
  {
   "cell_type": "code",
   "execution_count": 3,
   "id": "aa4af404",
   "metadata": {},
   "outputs": [
    {
     "data": {
      "text/plain": [
       "0                  freeCodeCamp/freeCodeCamp\n",
       "1                             996icu/996.ICU\n",
       "2     EbookFoundation/free-programming-books\n",
       "3        jwasham/coding-interview-university\n",
       "4                       sindresorhus/awesome\n",
       "                       ...                  \n",
       "95                   public-apis/public-apis\n",
       "96                                 vuejs/vue\n",
       "97                            facebook/react\n",
       "98          codecrafters-io/build-your-own-x\n",
       "99                     tensorflow/tensorflow\n",
       "Name: 0, Length: 100, dtype: object"
      ]
     },
     "execution_count": 3,
     "metadata": {},
     "output_type": "execute_result"
    }
   ],
   "source": [
    "urls_repo = pd.read_csv('urls.csv', index_col=0)\n",
    "urls_repo['0']"
   ]
  },
  {
   "cell_type": "code",
   "execution_count": 4,
   "id": "f45c3a9d",
   "metadata": {},
   "outputs": [],
   "source": [
    "\"\"\"\n",
    "A module for obtaining repo readme and language data from the github API.\n",
    "Before using this module, read through it, and follow the instructions marked\n",
    "TODO.\n",
    "After doing so, run it like this:\n",
    "    python acquire.py\n",
    "To create the `data.json` file that contains the data.\n",
    "\"\"\"\n",
    "\n",
    "\n",
    "# TODO: Make a github personal access token.\n",
    "#     1. Go here and generate a personal access token: https://github.com/settings/tokens\n",
    "#        You do _not_ need select any scopes, i.e. leave all the checkboxes unchecked\n",
    "#     2. Save it in your env.py file under the variable `github_token`\n",
    "# TODO: Add your github username to your env.py file under the variable `github_username`\n",
    "# TODO: Add more repositories to the `REPOS` list below.\n",
    "\n",
    "REPOS = urls_repo['0']\n",
    "\n",
    "headers = {\"Authorization\": f\"token {github_token}\", \"User-Agent\": github_username}\n",
    "\n",
    "if headers[\"Authorization\"] == \"token \" or headers[\"User-Agent\"] == \"\":\n",
    "    raise Exception(\n",
    "        \"You need to follow the instructions marked TODO in this script before trying to use it\"\n",
    "    )\n",
    "\n",
    "\n",
    "def github_api_request(url: str) -> Union[List, Dict]:\n",
    "    response = requests.get(url, headers=headers)\n",
    "    response_data = response.json()\n",
    "    if response.status_code != 200:\n",
    "        raise Exception(\n",
    "            f\"Error response from github api! status code: {response.status_code}, \"\n",
    "            f\"response: {json.dumps(response_data)}\"\n",
    "        )\n",
    "    return response_data\n",
    "\n",
    "def get_repo_language(repo: str) -> str:\n",
    "    url = f\"https://api.github.com/repos/{repo}\"\n",
    "    repo_info = github_api_request(url)\n",
    "    if type(repo_info) is dict:\n",
    "        repo_info = cast(Dict, repo_info)\n",
    "        if \"language\" not in repo_info:\n",
    "            raise Exception(\n",
    "                \"'language' key not round in response\\n{}\".format(json.dumps(repo_info))\n",
    "            )\n",
    "        return repo_info[\"language\"]\n",
    "    raise Exception(\n",
    "        f\"Expecting a dictionary response from {url}, instead got {json.dumps(repo_info)}\"\n",
    "    )\n",
    "\n",
    "\n",
    "def get_repo_contents(repo: str) -> List[Dict[str, str]]:\n",
    "    url = f\"https://api.github.com/repos/{repo}/contents/\"\n",
    "    contents = github_api_request(url)\n",
    "    if type(contents) is list:\n",
    "        contents = cast(List, contents)\n",
    "        return contents\n",
    "    raise Exception(\n",
    "        f\"Expecting a list response from {url}, instead got {json.dumps(contents)}\"\n",
    "    )\n",
    "\n",
    "\n",
    "def get_readme_download_url(files: List[Dict[str, str]]) -> str:\n",
    "    \"\"\"\n",
    "    Takes in a response from the github api that lists the files in a repo and\n",
    "    returns the url that can be used to download the repo's README file.\n",
    "    \"\"\"\n",
    "    for file in files:\n",
    "        if file[\"name\"].lower().startswith(\"readme\"):\n",
    "            return file[\"download_url\"]\n",
    "    return \"\"\n",
    "\n",
    "def process_repo(repo: str) -> Dict[str, str]:\n",
    "    \"\"\"\n",
    "    Takes a repo name like \"gocodeup/codeup-setup-script\" and returns a\n",
    "    dictionary with the language of the repo and the readme contents.\n",
    "    \"\"\"\n",
    "    contents = get_repo_contents(repo)\n",
    "    readme_download_url = get_readme_download_url(contents)\n",
    "    if readme_download_url == \"\":\n",
    "        readme_contents = \"\"\n",
    "    else:\n",
    "        readme_contents = requests.get(readme_download_url).text\n",
    "    return {\n",
    "        \"repo\": repo,\n",
    "        \"language\": get_repo_language(repo),\n",
    "        \"readme_contents\": readme_contents,\n",
    "    }\n",
    "\n",
    "\n",
    "def scrape_github_data() -> List[Dict[str, str]]:\n",
    "    \"\"\"\n",
    "    Loop through all of the repos and process them. Returns the processed data.\n",
    "    \"\"\"\n",
    "    return [process_repo(repo) for repo in REPOS]\n",
    "\n",
    "\n",
    "#if __name__ == \"__main__\":\n",
    "#    data = scrape_github_data()\n",
    "#    json.dump(data, open(\"data.json\", \"w\"), indent=1)"
   ]
  },
  {
   "cell_type": "code",
   "execution_count": 5,
   "id": "f5307c1b",
   "metadata": {},
   "outputs": [],
   "source": [
    "scrape_df = scrape_github_data()"
   ]
  },
  {
   "cell_type": "code",
   "execution_count": 6,
   "id": "c35844fe",
   "metadata": {},
   "outputs": [],
   "source": [
    "import unicodedata"
   ]
  },
  {
   "cell_type": "code",
   "execution_count": 7,
   "id": "997bba3f",
   "metadata": {},
   "outputs": [
    {
     "name": "stdout",
     "output_type": "stream",
     "text": [
      "/go-xorm/xorm\n",
      "/mantl/mantl\n",
      "/addyosmani/es6-equivalents-in-es5\n",
      "/AlanQuatermain/AQGridView\n",
      "/loopj/jquery-tokeninput\n",
      "/brianleroux/lawnchair\n",
      "/androidquery/androidquery\n",
      "/tobegit3hub/tensorflow_template_application\n",
      "/tomknig/TOMSMorphingLabel\n",
      "/CezaryKopacz/CKWaveCollectionViewTransition\n"
     ]
    }
   ],
   "source": [
    "url = \"https://github.com/search?q=stars%3A%3E0&s=stars&type=Repositories\"\n",
    "reqs = requests.get(url)\n",
    "soup = BeautifulSoup(reqs.text, 'html.parser')\n",
    "urls = []\n",
    "for link in soup.find_all('a',class_=\"v-align-middle\"):\n",
    "    print(link.get('href'))"
   ]
  },
  {
   "cell_type": "code",
   "execution_count": 47,
   "id": "97ba8c80",
   "metadata": {},
   "outputs": [
    {
     "data": {
      "text/html": [
       "<div>\n",
       "<style scoped>\n",
       "    .dataframe tbody tr th:only-of-type {\n",
       "        vertical-align: middle;\n",
       "    }\n",
       "\n",
       "    .dataframe tbody tr th {\n",
       "        vertical-align: top;\n",
       "    }\n",
       "\n",
       "    .dataframe thead th {\n",
       "        text-align: right;\n",
       "    }\n",
       "</style>\n",
       "<table border=\"1\" class=\"dataframe\">\n",
       "  <thead>\n",
       "    <tr style=\"text-align: right;\">\n",
       "      <th></th>\n",
       "      <th>repo</th>\n",
       "      <th>language</th>\n",
       "      <th>readme_contents</th>\n",
       "    </tr>\n",
       "  </thead>\n",
       "  <tbody>\n",
       "    <tr>\n",
       "      <th>0</th>\n",
       "      <td>freeCodeCamp/freeCodeCamp</td>\n",
       "      <td>TypeScript</td>\n",
       "      <td>[![freeCodeCamp Social Banner](https://s3.amaz...</td>\n",
       "    </tr>\n",
       "    <tr>\n",
       "      <th>1</th>\n",
       "      <td>996icu/996.ICU</td>\n",
       "      <td>None</td>\n",
       "      <td>[996.ICU](https://996.icu/#/en_US)\\n=======\\n*...</td>\n",
       "    </tr>\n",
       "    <tr>\n",
       "      <th>2</th>\n",
       "      <td>EbookFoundation/free-programming-books</td>\n",
       "      <td>None</td>\n",
       "      <td># List of Free Learning Resources In Many Lang...</td>\n",
       "    </tr>\n",
       "    <tr>\n",
       "      <th>3</th>\n",
       "      <td>jwasham/coding-interview-university</td>\n",
       "      <td>None</td>\n",
       "      <td># Coding Interview University\\n\\n&gt; I originall...</td>\n",
       "    </tr>\n",
       "    <tr>\n",
       "      <th>4</th>\n",
       "      <td>sindresorhus/awesome</td>\n",
       "      <td>None</td>\n",
       "      <td>&lt;div align=\"center\"&gt;\\n\\t&lt;a href=\"https://vshym...</td>\n",
       "    </tr>\n",
       "    <tr>\n",
       "      <th>...</th>\n",
       "      <td>...</td>\n",
       "      <td>...</td>\n",
       "      <td>...</td>\n",
       "    </tr>\n",
       "    <tr>\n",
       "      <th>95</th>\n",
       "      <td>public-apis/public-apis</td>\n",
       "      <td>Python</td>\n",
       "      <td>&lt;div align=\"center\"&gt;\\n    &lt;h1&gt;Public APIs&lt;/h1&gt;...</td>\n",
       "    </tr>\n",
       "    <tr>\n",
       "      <th>96</th>\n",
       "      <td>vuejs/vue</td>\n",
       "      <td>TypeScript</td>\n",
       "      <td>&lt;p align=\"center\"&gt;&lt;a href=\"https://vuejs.org\" ...</td>\n",
       "    </tr>\n",
       "    <tr>\n",
       "      <th>97</th>\n",
       "      <td>facebook/react</td>\n",
       "      <td>JavaScript</td>\n",
       "      <td># [React](https://reactjs.org/) &amp;middot; [![Gi...</td>\n",
       "    </tr>\n",
       "    <tr>\n",
       "      <th>98</th>\n",
       "      <td>codecrafters-io/build-your-own-x</td>\n",
       "      <td>None</td>\n",
       "      <td>[![Banner](https://codecrafters.io/landing/ima...</td>\n",
       "    </tr>\n",
       "    <tr>\n",
       "      <th>99</th>\n",
       "      <td>tensorflow/tensorflow</td>\n",
       "      <td>C++</td>\n",
       "      <td>&lt;div align=\"center\"&gt;\\n  &lt;img src=\"https://www....</td>\n",
       "    </tr>\n",
       "  </tbody>\n",
       "</table>\n",
       "<p>100 rows × 3 columns</p>\n",
       "</div>"
      ],
      "text/plain": [
       "                                      repo    language  \\\n",
       "0                freeCodeCamp/freeCodeCamp  TypeScript   \n",
       "1                           996icu/996.ICU        None   \n",
       "2   EbookFoundation/free-programming-books        None   \n",
       "3      jwasham/coding-interview-university        None   \n",
       "4                     sindresorhus/awesome        None   \n",
       "..                                     ...         ...   \n",
       "95                 public-apis/public-apis      Python   \n",
       "96                               vuejs/vue  TypeScript   \n",
       "97                          facebook/react  JavaScript   \n",
       "98        codecrafters-io/build-your-own-x        None   \n",
       "99                   tensorflow/tensorflow         C++   \n",
       "\n",
       "                                      readme_contents  \n",
       "0   [![freeCodeCamp Social Banner](https://s3.amaz...  \n",
       "1   [996.ICU](https://996.icu/#/en_US)\\n=======\\n*...  \n",
       "2   # List of Free Learning Resources In Many Lang...  \n",
       "3   # Coding Interview University\\n\\n> I originall...  \n",
       "4   <div align=\"center\">\\n\\t<a href=\"https://vshym...  \n",
       "..                                                ...  \n",
       "95  <div align=\"center\">\\n    <h1>Public APIs</h1>...  \n",
       "96  <p align=\"center\"><a href=\"https://vuejs.org\" ...  \n",
       "97  # [React](https://reactjs.org/) &middot; [![Gi...  \n",
       "98  [![Banner](https://codecrafters.io/landing/ima...  \n",
       "99  <div align=\"center\">\\n  <img src=\"https://www....  \n",
       "\n",
       "[100 rows x 3 columns]"
      ]
     },
     "execution_count": 47,
     "metadata": {},
     "output_type": "execute_result"
    }
   ],
   "source": [
    "df = pd.DataFrame(scrape_df)\n",
    "df"
   ]
  },
  {
   "cell_type": "code",
   "execution_count": 55,
   "id": "73178864",
   "metadata": {},
   "outputs": [
    {
     "data": {
      "text/plain": [
       "\"[![freeCodeCamp Social Banner](https://s3.amazonaws.com/freecodecamp/wide-social-banner.png)](https://www.freecodecamp.org/)\\n\\n[![Pull Requests Welcome](https://img.shields.io/badge/PRs-welcome-brightgreen.svg?style=flat)](http://makeapullrequest.com)\\n[![first-timers-only Friendly](https://img.shields.io/badge/first--timers--only-friendly-blue.svg)](http://www.firsttimersonly.com/)\\n[![Open Source Helpers](https://www.codetriage.com/freecodecamp/freecodecamp/badges/users.svg)](https://www.codetriage.com/freecodecamp/freecodecamp)\\n[![Setup Automated](https://img.shields.io/badge/setup-automated-blue?logo=gitpod)](https://gitpod.io/from-referrer/)\\n[![Discord](https://img.shields.io/discord/692816967895220344)](https://discord.gg/PRyKn3Vbay)\\n\\n## freeCodeCamp.org's open-source codebase and curriculum\\n\\n[freeCodeCamp.org](https://www.freecodecamp.org) is a friendly community where you can learn to code for free. It is run by a [donor-supported 501(c)(3) charity](https://www.freecodecamp.org/donate) to help millions of busy adults transition into tech. Our community has already helped more than 40,000 people get their first developer job.\\n\\nOur full-stack web development and machine learning curriculum is completely free and self-paced. We have thousands of interactive coding challenges to help you expand your skills.\\n\\n## Table of Contents\\n\\n- [Certifications](#certifications)\\n- [The Learning Platform](#the-learning-platform)\\n- [Reporting Bugs and Issues](#reporting-bugs-and-issues)\\n- [Reporting Security Issues and Responsible Disclosure](#reporting-security-issues-and-responsible-disclosure)\\n- [Contributing](#contributing)\\n- [Platform, Build and Deployment Status](#platform-build-and-deployment-status)\\n- [License](#license)\\n\\n### Certifications\\n\\nfreeCodeCamp.org offers several free developer certifications. Each of these certifications involves building 5 required web app projects, along with hundreds of optional coding challenges to help you prepare for those projects. We estimate that each certification will take a beginner programmer around 300 hours to earn.\\n\\nEach of these 50 projects in the freeCodeCamp.org curriculum has its own agile user stories and automated tests. These help you build up your project incrementally and ensure you've fulfilled all the user stories before you submit it.\\n\\nYou can pull in these test suites through [freeCodeCamp's CDN](https://cdn.freecodecamp.org/testable-projects-fcc/v1/bundle.js). This means you can build these projects on websites like CodePen and Replit - or even on your local computer's development environment.\\n\\nOnce you've earned a certification, you will always have it. You will always be able to link to it from your LinkedIn or resume. And when your prospective employers or freelance clients click that link, they'll see a verified certification specific to you.\\n\\nThe one exception to this is if we discover violations of our [Academic Honesty Policy](https://www.freecodecamp.org/news/academic-honesty-policy/). When we catch people unambiguously plagiarizing (submitting other people's code or projects as their own without citation), we do what all rigorous institutions of learning should do - we revoke their certifications and ban those people.\\n\\nHere are our ten core certifications:\\n\\n#### 1. [Responsive Web Design Certification](https://www.freecodecamp.org/learn/2022/responsive-web-design/)\\n\\n- [Learn HTML by Building a Cat Photo App](https://www.freecodecamp.org/learn/2022/responsive-web-design/#learn-html-by-building-a-cat-photo-app)\\n- [Learn Basic CSS by Building a Cafe Menu](https://www.freecodecamp.org/learn/2022/responsive-web-design/#learn-basic-css-by-building-a-cafe-menu)\\n- [Learn CSS Colors by Building a Set of Colored Markers](https://www.freecodecamp.org/learn/2022/responsive-web-design/#learn-css-colors-by-building-a-set-of-colored-markers)\\n- [Learn HTML Forms by Building a Registration Form](https://www.freecodecamp.org/learn/2022/responsive-web-design/#learn-html-forms-by-building-a-registration-form)\\n- [Learn the CSS Box Model by Building a Rothko Painting](https://www.freecodecamp.org/learn/2022/responsive-web-design/#learn-the-css-box-model-by-building-a-rothko-painting)\\n- [Learn CSS Flexbox by Building a Photo Gallery](https://www.freecodecamp.org/learn/2022/responsive-web-design/#learn-css-flexbox-by-building-a-photo-gallery)\\n- [Learn Typography by Building a Nutrition Label](https://www.freecodecamp.org/learn/2022/responsive-web-design/#learn-typography-by-building-a-nutrition-label)\\n- [Learn Accessibility by Building a Quiz](https://www.freecodecamp.org/learn/2022/responsive-web-design/#learn-accessibility-by-building-a-quiz)\\n- [Learn More About CSS Pseudo Selectors By Building A Balance Sheet](https://www.freecodecamp.org/learn/2022/responsive-web-design/#learn-more-about-css-pseudo-selectors-by-building-a-balance-sheet)\\n- [Learn Intermediate CSS by Building a Picasso Painting](https://www.freecodecamp.org/learn/2022/responsive-web-design/#learn-intermediate-css-by-building-a-picasso-painting)\\n- [Learn Responsive Web Design by Building a Piano](https://www.freecodecamp.org/learn/2022/responsive-web-design/#learn-responsive-web-design-by-building-a-piano)\\n- [Learn CSS Variables by Building a City Skyline](https://www.freecodecamp.org/learn/2022/responsive-web-design/#learn-css-variables-by-building-a-city-skyline)\\n- [Learn CSS Grid by Building a Magazine](https://www.freecodecamp.org/learn/2022/responsive-web-design/#learn-css-grid-by-building-a-magazine)\\n- [Learn CSS Transforms by Building a Penguin](https://www.freecodecamp.org/learn/2022/responsive-web-design/#learn-css-transforms-by-building-a-penguin)\\n- [Learn CSS Animations by Building a Ferris Wheel](https://www.freecodecamp.org/learn/2022/responsive-web-design/#learn-css-animation-by-building-a-ferris-wheel)\\n  <br />\\n  <br />\\n  **Projects**: [Survey Form](https://www.freecodecamp.org/learn/2022/responsive-web-design/build-a-survey-form-project/build-a-survey-form), [Tribute Page](https://www.freecodecamp.org/learn/2022/responsive-web-design/build-a-tribute-page-project/build-a-tribute-page), [Technical Documentation Page](https://www.freecodecamp.org/learn/2022/responsive-web-design/build-a-technical-documentation-page-project/build-a-technical-documentation-page), [Product Landing Page](https://www.freecodecamp.org/learn/2022/responsive-web-design/build-a-product-landing-page-project/build-a-product-landing-page), [Personal Portfolio Webpage](https://www.freecodecamp.org/learn/2022/responsive-web-design/build-a-personal-portfolio-webpage-project/build-a-personal-portfolio-webpage)\\n\\n#### 2. [JavaScript Algorithms and Data Structures Certification](https://www.freecodecamp.org/learn/javascript-algorithms-and-data-structures/)\\n\\n- [Basic JavaScript](https://www.freecodecamp.org/learn/javascript-algorithms-and-data-structures/#basic-javascript)\\n- [ES6](https://www.freecodecamp.org/learn/javascript-algorithms-and-data-structures/#es6)\\n- [Regular Expressions](https://www.freecodecamp.org/learn/javascript-algorithms-and-data-structures/#regular-expressions)\\n- [Debugging](https://www.freecodecamp.org/learn/javascript-algorithms-and-data-structures/#debugging)\\n- [Basic Data Structures](https://www.freecodecamp.org/learn/javascript-algorithms-and-data-structures/#basic-data-structures)\\n- [Basic Algorithm Scripting](https://www.freecodecamp.org/learn/javascript-algorithms-and-data-structures/#basic-algorithm-scripting)\\n- [Object-Oriented Programming](https://www.freecodecamp.org/learn/javascript-algorithms-and-data-structures/#object-oriented-programming)\\n- [Functional Programming](https://www.freecodecamp.org/learn/javascript-algorithms-and-data-structures/#functional-programming)\\n- [Intermediate Algorithm Scripting](https://www.freecodecamp.org/learn/javascript-algorithms-and-data-structures/#intermediate-algorithm-scripting)\\n  <br />\\n  <br />\\n  **Projects**: [Palindrome Checker](https://www.freecodecamp.org/learn/javascript-algorithms-and-data-structures/javascript-algorithms-and-data-structures-projects/palindrome-checker),[ Roman Numeral Converter](https://www.freecodecamp.org/learn/javascript-algorithms-and-data-structures/javascript-algorithms-and-data-structures-projects/roman-numeral-converter), [Caesar's Cipher](https://www.freecodecamp.org/learn/javascript-algorithms-and-data-structures/javascript-algorithms-and-data-structures-projects/caesars-cipher), [Telephone Number Validator](https://www.freecodecamp.org/learn/javascript-algorithms-and-data-structures/javascript-algorithms-and-data-structures-projects/telephone-number-validator), [Cash Register](https://www.freecodecamp.org/learn/javascript-algorithms-and-data-structures/javascript-algorithms-and-data-structures-projects/cash-register)\\n\\n#### 3. [Front End Libraries Certification](https://www.freecodecamp.org/learn/front-end-development-libraries/)\\n\\n- [Bootstrap](https://www.freecodecamp.org/learn/front-end-development-libraries/#bootstrap)\\n- [jQuery](https://www.freecodecamp.org/learn/front-end-development-libraries/#jquery)\\n- [Sass](https://www.freecodecamp.org/learn/front-end-development-libraries/#sass)\\n- [React](https://www.freecodecamp.org/learn/front-end-development-libraries/#react)\\n- [Redux](https://www.freecodecamp.org/learn/front-end-development-libraries/#redux)\\n- [React and Redux](https://www.freecodecamp.org/learn/front-end-development-libraries/#react-and-redux)\\n  <br />\\n  <br />\\n  **Projects**: [Random Quote Machine](https://www.freecodecamp.org/learn/front-end-development-libraries/front-end-development-libraries-projects/build-a-random-quote-machine), [Markdown Previewer](https://www.freecodecamp.org/learn/front-end-development-libraries/front-end-development-libraries-projects/build-a-markdown-previewer), [Drum Machine](https://www.freecodecamp.org/learn/front-end-development-libraries/front-end-development-libraries-projects/build-a-drum-machine), [JavaScript Calculator](https://www.freecodecamp.org/learn/front-end-development-libraries/front-end-development-libraries-projects/build-a-javascript-calculator), [25 + 5 Clock](https://www.freecodecamp.org/learn/front-end-development-libraries/front-end-development-libraries-projects/build-a-25--5-clock)\\n\\n#### 4. [Data Visualization Certification](https://www.freecodecamp.org/learn/data-visualization/)\\n\\n- [Data Visualization with D3](https://www.freecodecamp.org/learn/data-visualization/#data-visualization-with-d3)\\n- [JSON APIs and Ajax](https://www.freecodecamp.org/learn/data-visualization/#json-apis-and-ajax)\\n  <br />\\n  <br />\\n  **Projects**: [Bar Chart](https://www.freecodecamp.org/learn/data-visualization/data-visualization-projects/visualize-data-with-a-bar-chart), [Scatterplot Graph](https://www.freecodecamp.org/learn/data-visualization/data-visualization-projects/visualize-data-with-a-scatterplot-graph), [Heat Map](https://www.freecodecamp.org/learn/data-visualization/data-visualization-projects/visualize-data-with-a-heat-map), [Choropleth Map](https://www.freecodecamp.org/learn/data-visualization/data-visualization-projects/visualize-data-with-a-choropleth-map), [Treemap Diagram](https://www.freecodecamp.org/learn/data-visualization/data-visualization-projects/visualize-data-with-a-treemap-diagram)\\n\\n#### 5. [APIs and Microservices Certification](https://www.freecodecamp.org/learn/back-end-development-and-apis/)\\n\\n- [Managing Packages with Npm](https://www.freecodecamp.org/learn/back-end-development-and-apis/#managing-packages-with-npm)\\n- [Basic Node and Express](https://www.freecodecamp.org/learn/back-end-development-and-apis/#basic-node-and-express)\\n- [MongoDB and Mongoose](https://www.freecodecamp.org/learn/back-end-development-and-apis/#mongodb-and-mongoose)\\n  <br />\\n  <br />\\n  **Projects**: [Timestamp Microservice](https://www.freecodecamp.org/learn/back-end-development-and-apis/back-end-development-and-apis-projects/timestamp-microservice), [Request Header Parser](https://www.freecodecamp.org/learn/back-end-development-and-apis/back-end-development-and-apis-projects/request-header-parser-microservice), [URL Shortener](https://www.freecodecamp.org/learn/back-end-development-and-apis/back-end-development-and-apis-projects/url-shortener-microservice), [Exercise Tracker](https://www.freecodecamp.org/learn/back-end-development-and-apis/back-end-development-and-apis-projects/exercise-tracker), [File Metadata Microservice](https://www.freecodecamp.org/learn/back-end-development-and-apis/back-end-development-and-apis-projects/file-metadata-microservice)\\n\\n#### 6. [Quality Assurance Certification](https://www.freecodecamp.org/learn/quality-assurance/)\\n\\n- [Quality Assurance and Testing with Chai](https://www.freecodecamp.org/learn/quality-assurance/#quality-assurance-and-testing-with-chai)\\n- [Advanced Node and Express](https://www.freecodecamp.org/learn/quality-assurance/#advanced-node-and-express)\\n  <br />\\n  <br />\\n  **Projects**: [Metric-Imperial Converter](https://www.freecodecamp.org/learn/quality-assurance/quality-assurance-projects/metric-imperial-converter), [Issue Tracker](https://www.freecodecamp.org/learn/quality-assurance/quality-assurance-projects/issue-tracker), [Personal Library](https://www.freecodecamp.org/learn/quality-assurance/quality-assurance-projects/personal-library), [Sudoku Solver](https://www.freecodecamp.org/learn/quality-assurance/quality-assurance-projects/sudoku-solver), [American British Translator](https://www.freecodecamp.org/learn/quality-assurance/quality-assurance-projects/american-british-translator)\\n\\n#### 7. [Scientific Computing with Python Certification](https://www.freecodecamp.org/learn/scientific-computing-with-python/)\\n\\n- [Introduction to Python for Everybody](https://www.freecodecamp.org/learn/scientific-computing-with-python/#python-for-everybody)\\n  <br />\\n  <br />\\n  **Projects**: [Arithmetic Formatter](https://www.freecodecamp.org/learn/scientific-computing-with-python/scientific-computing-with-python-projects/arithmetic-formatter), [Time Calculator](https://www.freecodecamp.org/learn/scientific-computing-with-python/scientific-computing-with-python-projects/time-calculator), [Budget App](https://www.freecodecamp.org/learn/scientific-computing-with-python/scientific-computing-with-python-projects/budget-app), [Polygon Area Calculator](https://www.freecodecamp.org/learn/scientific-computing-with-python/scientific-computing-with-python-projects/polygon-area-calculator), [Probability Calculator](https://www.freecodecamp.org/learn/scientific-computing-with-python/scientific-computing-with-python-projects/probability-calculator)\\n\\n#### 8. [Data Analysis with Python Certification](https://www.freecodecamp.org/learn/data-analysis-with-python/)\\n\\n- [Data Analysis with Python Course](https://www.freecodecamp.org/learn/data-analysis-with-python/#data-analysis-with-python-course)\\n- [NumPy](https://www.freecodecamp.org/learn/data-analysis-with-python/#numpy)\\n  <br />\\n  <br />\\n  **Projects**: [Mean-Variance-Standard Deviation Calculator](https://www.freecodecamp.org/learn/data-analysis-with-python/data-analysis-with-python-projects/mean-variance-standard-deviation-calculator), [Demographic Data Analyzer](https://www.freecodecamp.org/learn/data-analysis-with-python/data-analysis-with-python-projects/demographic-data-analyzer), [Medical Data Visualizer](https://www.freecodecamp.org/learn/data-analysis-with-python/data-analysis-with-python-projects/medical-data-visualizer), [Page View Time Series Visualizer](https://www.freecodecamp.org/learn/data-analysis-with-python/data-analysis-with-python-projects/page-view-time-series-visualizer), [Sea Level Predictor](https://www.freecodecamp.org/learn/data-analysis-with-python/data-analysis-with-python-projects/sea-level-predictor)\\n\\n#### 9. [Information Security Certification](https://www.freecodecamp.org/learn/information-security/)\\n\\n- [Information Security with HelmetJS](https://www.freecodecamp.org/learn/information-security/#information-security-with-helmetjs)\\n- [Python for Penetration Testing](https://www.freecodecamp.org/learn/information-security/#python-for-penetration-testing)\\n  <br />\\n  <br />\\n  **Projects**: [Stock Price Checker](https://www.freecodecamp.org/learn/information-security/information-security-projects/stock-price-checker), [Anonymous Message Board](https://www.freecodecamp.org/learn/information-security/information-security-projects/anonymous-message-board), [Port Scanner](https://www.freecodecamp.org/learn/information-security/information-security-projects/port-scanner), [SHA-1 Password Cracker](https://www.freecodecamp.org/learn/information-security/information-security-projects/sha-1-password-cracker), [Secure Real Time Multiplayer Game ](https://www.freecodecamp.org/learn/information-security/information-security-projects/secure-real-time-multiplayer-game)\\n\\n#### 10. [Machine Learning with Python Certification](https://www.freecodecamp.org/learn/machine-learning-with-python/)\\n\\n- [TensorFlow](https://www.freecodecamp.org/learn/machine-learning-with-python/#tensorflow)\\n- [How Neural Networks Work](https://www.freecodecamp.org/learn/machine-learning-with-python/#how-neural-networks-work)\\n  <br />\\n  <br />\\n  **Projects**: [Rock Paper Scissors](https://www.freecodecamp.org/learn/machine-learning-with-python/machine-learning-with-python-projects/rock-paper-scissors), [Cat and Dog Image Classifier](https://www.freecodecamp.org/learn/machine-learning-with-python/machine-learning-with-python-projects/cat-and-dog-image-classifier), [Book Recommendation Engine using KNN](https://www.freecodecamp.org/learn/machine-learning-with-python/machine-learning-with-python-projects/book-recommendation-engine-using-knn), [Linear Regression Health Costs Calculator](https://www.freecodecamp.org/learn/machine-learning-with-python/machine-learning-with-python-projects/linear-regression-health-costs-calculator), [Neural Network SMS Text Classifier](https://www.freecodecamp.org/learn/machine-learning-with-python/machine-learning-with-python-projects/neural-network-sms-text-classifier)\\n\\n#### Legacy Full Stack Development Certification\\n\\nOnce you have earned the Responsive Web Design, Algorithms and Data Structures, Front End Development Libraries, Data Visualization, Back End Development and APIs, and Legacy Information Security and Quality Assurance certifications, you'll be able to claim your freeCodeCamp.org Full Stack Development Certification. This distinction signifies that you've completed around 1,800 hours of coding with a wide range of web development tools.\\n\\n#### Legacy Certifications\\n\\nWe also have 4 legacy certifications dating back to our 2015 curriculum, which are still available. All of the required projects for these legacy certifications will remain available on freeCodeCamp.org.\\n\\n- Legacy Front End Development Certification\\n- Legacy Data Visualization Certification\\n- Legacy Back End Development Certification\\n- Legacy Information Security and Quality Assurance Certification\\n\\n### The Learning Platform\\n\\nThis code is running live at [freeCodeCamp.org](https://www.freecodecamp.org).\\n\\nOur community also has:\\n\\n- A [forum](https://forum.freecodecamp.org) where you can usually get programming help or project feedback within hours.\\n- A [YouTube channel](https://youtube.com/freecodecamp) with free courses on Python, SQL, Android, and a wide variety of other technologies.\\n- A [technical publication](https://www.freecodecamp.org/news) with thousands of programming tutorials and articles about mathematics and computer science.\\n- A [Discord server](https://discord.gg/Z7Fm39aNtZ) where you can hang out and talk with developers and people who are learning to code.\\n\\n> #### [Join the community here](https://www.freecodecamp.org/signin).\\n\\n### Reporting Bugs and Issues\\n\\nIf you think you've found a bug, first read the [how to report a bug](https://forum.freecodecamp.org/t/how-to-report-a-bug/19543) article and follow its instructions.\\n\\nIf you're confident it's a new bug and have confirmed that someone else is facing the same issue, go ahead and create a new GitHub issue. Be sure to include as much information as possible so we can reproduce the bug.\\n\\n### Reporting Security Issues and Responsible Disclosure\\n\\nWe appreciate responsible disclosure of vulnerabilities that might impact the integrity of our platforms and users.\\n\\n> #### [Read our security policy and follow these steps to report a vulnerability](https://contribute.freecodecamp.org/#/security).\\n\\n### Contributing\\n\\nThe freeCodeCamp.org community is possible thanks to thousands of kind volunteers like you. We welcome all contributions to the community and are excited to welcome you aboard.\\n\\n> #### [Please follow these steps to contribute](https://contribute.freecodecamp.org).\\n\\n### Platform, Build, and Deployment Status\\n\\nThe general platform status for all our applications is available at [`status.freecodecamp.org`](https://status.freecodecamp.org). The build and deployment status for the code is available in [our DevOps Guide](https://contribute.freecodecamp.org/#/devops).\\n\\n### License\\n\\nCopyright © 2022 freeCodeCamp.org\\n\\nThe content of this repository is bound by the following licenses:\\n\\n- The computer software is licensed under the [BSD-3-Clause](LICENSE.md) license.\\n- The learning resources in the [`/curriculum`](/curriculum) directory including their subdirectories thereon are licensed under the [CC-BY-SA-4.0](/curriculum/LICENSE.md) license.\\n\""
      ]
     },
     "execution_count": 55,
     "metadata": {},
     "output_type": "execute_result"
    }
   ],
   "source": [
    "df.readme_contents[0]"
   ]
  },
  {
   "cell_type": "code",
   "execution_count": 45,
   "id": "26f858bd",
   "metadata": {},
   "outputs": [
    {
     "ename": "KeyError",
     "evalue": "'readme_contents'",
     "output_type": "error",
     "traceback": [
      "\u001b[0;31m---------------------------------------------------------------------------\u001b[0m",
      "\u001b[0;31mKeyError\u001b[0m                                  Traceback (most recent call last)",
      "Input \u001b[0;32mIn [45]\u001b[0m, in \u001b[0;36m<cell line: 1>\u001b[0;34m()\u001b[0m\n\u001b[0;32m----> 1\u001b[0m df \u001b[38;5;241m=\u001b[39m \u001b[43mdf\u001b[49m\u001b[43m[\u001b[49m\u001b[38;5;124;43m'\u001b[39;49m\u001b[38;5;124;43mreadme_contents\u001b[39;49m\u001b[38;5;124;43m'\u001b[39;49m\u001b[43m]\u001b[49m\u001b[38;5;241m.\u001b[39mastype(\u001b[38;5;28mstr\u001b[39m)\n\u001b[1;32m      2\u001b[0m df\u001b[38;5;241m.\u001b[39mhead()\n",
      "File \u001b[0;32m/usr/local/anaconda3/lib/python3.9/site-packages/pandas/core/series.py:958\u001b[0m, in \u001b[0;36mSeries.__getitem__\u001b[0;34m(self, key)\u001b[0m\n\u001b[1;32m    955\u001b[0m     \u001b[38;5;28;01mreturn\u001b[39;00m \u001b[38;5;28mself\u001b[39m\u001b[38;5;241m.\u001b[39m_values[key]\n\u001b[1;32m    957\u001b[0m \u001b[38;5;28;01melif\u001b[39;00m key_is_scalar:\n\u001b[0;32m--> 958\u001b[0m     \u001b[38;5;28;01mreturn\u001b[39;00m \u001b[38;5;28;43mself\u001b[39;49m\u001b[38;5;241;43m.\u001b[39;49m\u001b[43m_get_value\u001b[49m\u001b[43m(\u001b[49m\u001b[43mkey\u001b[49m\u001b[43m)\u001b[49m\n\u001b[1;32m    960\u001b[0m \u001b[38;5;28;01mif\u001b[39;00m is_hashable(key):\n\u001b[1;32m    961\u001b[0m     \u001b[38;5;66;03m# Otherwise index.get_value will raise InvalidIndexError\u001b[39;00m\n\u001b[1;32m    962\u001b[0m     \u001b[38;5;28;01mtry\u001b[39;00m:\n\u001b[1;32m    963\u001b[0m         \u001b[38;5;66;03m# For labels that don't resolve as scalars like tuples and frozensets\u001b[39;00m\n",
      "File \u001b[0;32m/usr/local/anaconda3/lib/python3.9/site-packages/pandas/core/series.py:1069\u001b[0m, in \u001b[0;36mSeries._get_value\u001b[0;34m(self, label, takeable)\u001b[0m\n\u001b[1;32m   1066\u001b[0m     \u001b[38;5;28;01mreturn\u001b[39;00m \u001b[38;5;28mself\u001b[39m\u001b[38;5;241m.\u001b[39m_values[label]\n\u001b[1;32m   1068\u001b[0m \u001b[38;5;66;03m# Similar to Index.get_value, but we do not fall back to positional\u001b[39;00m\n\u001b[0;32m-> 1069\u001b[0m loc \u001b[38;5;241m=\u001b[39m \u001b[38;5;28;43mself\u001b[39;49m\u001b[38;5;241;43m.\u001b[39;49m\u001b[43mindex\u001b[49m\u001b[38;5;241;43m.\u001b[39;49m\u001b[43mget_loc\u001b[49m\u001b[43m(\u001b[49m\u001b[43mlabel\u001b[49m\u001b[43m)\u001b[49m\n\u001b[1;32m   1070\u001b[0m \u001b[38;5;28;01mreturn\u001b[39;00m \u001b[38;5;28mself\u001b[39m\u001b[38;5;241m.\u001b[39mindex\u001b[38;5;241m.\u001b[39m_get_values_for_loc(\u001b[38;5;28mself\u001b[39m, loc, label)\n",
      "File \u001b[0;32m/usr/local/anaconda3/lib/python3.9/site-packages/pandas/core/indexes/range.py:389\u001b[0m, in \u001b[0;36mRangeIndex.get_loc\u001b[0;34m(self, key, method, tolerance)\u001b[0m\n\u001b[1;32m    387\u001b[0m             \u001b[38;5;28;01mraise\u001b[39;00m \u001b[38;5;167;01mKeyError\u001b[39;00m(key) \u001b[38;5;28;01mfrom\u001b[39;00m \u001b[38;5;21;01merr\u001b[39;00m\n\u001b[1;32m    388\u001b[0m     \u001b[38;5;28mself\u001b[39m\u001b[38;5;241m.\u001b[39m_check_indexing_error(key)\n\u001b[0;32m--> 389\u001b[0m     \u001b[38;5;28;01mraise\u001b[39;00m \u001b[38;5;167;01mKeyError\u001b[39;00m(key)\n\u001b[1;32m    390\u001b[0m \u001b[38;5;28;01mreturn\u001b[39;00m \u001b[38;5;28msuper\u001b[39m()\u001b[38;5;241m.\u001b[39mget_loc(key, method\u001b[38;5;241m=\u001b[39mmethod, tolerance\u001b[38;5;241m=\u001b[39mtolerance)\n",
      "\u001b[0;31mKeyError\u001b[0m: 'readme_contents'"
     ]
    }
   ],
   "source": [
    "df = df['readme_contents'].astype(str)"
   ]
  },
  {
   "cell_type": "code",
   "execution_count": 27,
   "id": "0652c3fa",
   "metadata": {},
   "outputs": [
    {
     "data": {
      "text/plain": [
       "'0     [![freeCodeCamp Social Banner](https://s3.amaz...\\n1     [996.ICU](https://996.icu/#/en_US)\\\\n=======\\\\n*...\\n2     # List of Free Learning Resources In Many Lang...\\n3     # Coding Interview University\\\\n\\\\n> I originall...\\n4     <div align=\"center\">\\\\n\\\\t<a href=\"https://vshym...\\n5     <p align=\"center\">\\\\n  <img src=\"public/images/...\\n6     *[English](README.md) ∙ [日本語](README-ja.md) ∙ ...\\n7     # [React](https://reactjs.org/) &middot; [![Gi...\\n8     [![Banner](https://codecrafters.io/landing/ima...\\n9     # You Don\\'t Know JS Yet (book series) - 2nd Ed...\\n10    [![freeCodeCamp Social Banner](https://s3.amaz...\\n11    # List of Free Learning Resources In Many Lang...\\n12    <div align=\"center\">\\\\n\\\\t<a href=\"https://vshym...\\n13    <div align=\"center\">\\\\n    <h1>Public APIs</h1>...\\n14    *[English](README.md) ∙ [日本語](README-ja.md) ∙ ...\\n15    <p align=\"center\"><a href=\"https://vuejs.org\" ...\\n16    [![Banner](https://codecrafters.io/landing/ima...\\n17    <div align=\"center\">\\\\n  <img src=\"https://www....\\n18    # You Don\\'t Know JS Yet (book series) - 2nd Ed...\\n19    <p align=\"center\">\\\\n  <a href=\"https://getboot...\\n20    [![freeCodeCamp Social Banner](https://s3.amaz...\\n21    [996.ICU](https://996.icu/#/en_US)\\\\n=======\\\\n*...\\n22    # Coding Interview University\\\\n\\\\n> I originall...\\n23    <p align=\"center\">\\\\n  <img src=\"public/images/...\\n24    <p align=\"center\"><a href=\"https://vuejs.org\" ...\\n25    <div align=\"center\">\\\\n  <img src=\"https://www....\\n26    # You Don\\'t Know JS Yet (book series) - 2nd Ed...\\n27    <div align=\"center\">\\\\r\\\\n    <a href=\"https://w...\\n28    # جافا سكريبت خوارزميات  وهياكل البيانات\\\\n\\\\n[!...\\n29    <p align=\"center\"><img src=\"https://ohmyzsh.s3...\\n30    [![freeCodeCamp Social Banner](https://s3.amaz...\\n31    [996.ICU](https://996.icu/#/en_US)\\\\n=======\\\\n*...\\n32    # Coding Interview University\\\\n\\\\n> I originall...\\n33    <p align=\"center\">\\\\n  <img src=\"public/images/...\\n34    <p align=\"center\"><a href=\"https://vuejs.org\" ...\\n35    <div align=\"center\">\\\\n  <img src=\"https://www....\\n36    # You Don\\'t Know JS Yet (book series) - 2nd Ed...\\n37    # جافا سكريبت خوارزميات  وهياكل البيانات\\\\n\\\\n[!...\\n38    <p align=\"center\"><img src=\"https://ohmyzsh.s3...\\n39    <div align=\"center\">\\\\n<!-- Title: -->\\\\n  <a hr...\\n40    [![freeCodeCamp Social Banner](https://s3.amaz...\\n41    [996.ICU](https://996.icu/#/en_US)\\\\n=======\\\\n*...\\n42    # Coding Interview University\\\\n\\\\n> I originall...\\n43    <p align=\"center\">\\\\n  <img src=\"public/images/...\\n44    <p align=\"center\"><a href=\"https://vuejs.org\" ...\\n45    <div align=\"center\">\\\\n  <img src=\"https://www....\\n46    # You Don\\'t Know JS Yet (book series) - 2nd Ed...\\n47    <div align=\"center\">\\\\r\\\\n    <a href=\"https://w...\\n48    # جافا سكريبت خوارزميات  وهياكل البيانات\\\\n\\\\n[!...\\n49    <p align=\"center\"><img src=\"https://ohmyzsh.s3...\\n50    [![freeCodeCamp Social Banner](https://s3.amaz...\\n51    [996.ICU](https://996.icu/#/en_US)\\\\n=======\\\\n*...\\n52    # Coding Interview University\\\\n\\\\n> I originall...\\n53    <p align=\"center\">\\\\n  <img src=\"public/images/...\\n54    <p align=\"center\"><a href=\"https://vuejs.org\" ...\\n55    <div align=\"center\">\\\\n  <img src=\"https://www....\\n56    # You Don\\'t Know JS Yet (book series) - 2nd Ed...\\n57    <div align=\"center\">\\\\r\\\\n    <a href=\"https://w...\\n58    # جافا سكريبت خوارزميات  وهياكل البيانات\\\\n\\\\n[!...\\n59    <p align=\"center\"><img src=\"https://ohmyzsh.s3...\\n60    [![freeCodeCamp Social Banner](https://s3.amaz...\\n61    # Coding Interview University\\\\n\\\\n> I originall...\\n62    <p align=\"center\">\\\\n  <img src=\"public/images/...\\n63    # You Don\\'t Know JS Yet (book series) - 2nd Ed...\\n64    <div align=\"center\">\\\\r\\\\n    <a href=\"https://w...\\n65    <a href=\"https://flutter.dev/\">\\\\n  <h1 align=\"...\\n66    # A collection of `.gitignore` templates\\\\n\\\\nTh...\\n67    # Visual Studio Code - Open Source (\"Code - OS...\\n68    # The Go Programming Language\\\\n\\\\nGo is an open...\\n69    [![Logo](/logo.png)](https://30secondsofcode.o...\\n70    [996.ICU](https://996.icu/#/en_US)\\\\n=======\\\\n*...\\n71    # List of Free Learning Resources In Many Lang...\\n72    # Coding Interview University\\\\n\\\\n> I originall...\\n73    <div align=\"center\">\\\\n\\\\t<a href=\"https://vshym...\\n74    <p align=\"center\">\\\\n  <img src=\"public/images/...\\n75    <div align=\"center\">\\\\n    <h1>Public APIs</h1>...\\n76    <p align=\"center\"><a href=\"https://vuejs.org\" ...\\n77    # [React](https://reactjs.org/) &middot; [![Gi...\\n78    [![Banner](https://codecrafters.io/landing/ima...\\n79    <div align=\"center\">\\\\n  <img src=\"https://www....\\n80    [![freeCodeCamp Social Banner](https://s3.amaz...\\n81    # List of Free Learning Resources In Many Lang...\\n82    # Coding Interview University\\\\n\\\\n> I originall...\\n83    <div align=\"center\">\\\\n\\\\t<a href=\"https://vshym...\\n84    <p align=\"center\">\\\\n  <img src=\"public/images/...\\n85    <div align=\"center\">\\\\n    <h1>Public APIs</h1>...\\n86    *[English](README.md) ∙ [日本語](README-ja.md) ∙ ...\\n87    <p align=\"center\"><a href=\"https://vuejs.org\" ...\\n88    # [React](https://reactjs.org/) &middot; [![Gi...\\n89    [![Banner](https://codecrafters.io/landing/ima...\\n90    [![freeCodeCamp Social Banner](https://s3.amaz...\\n91    [996.ICU](https://996.icu/#/en_US)\\\\n=======\\\\n*...\\n92    # Coding Interview University\\\\n\\\\n> I originall...\\n93    <div align=\"center\">\\\\n\\\\t<a href=\"https://vshym...\\n94    <p align=\"center\">\\\\n  <img src=\"public/images/...\\n95    <div align=\"center\">\\\\n    <h1>Public APIs</h1>...\\n96    <p align=\"center\"><a href=\"https://vuejs.org\" ...\\n97    # [React](https://reactjs.org/) &middot; [![Gi...\\n98    [![Banner](https://codecrafters.io/landing/ima...\\n99    <div align=\"center\">\\\\n  <img src=\"https://www....'"
      ]
     },
     "execution_count": 27,
     "metadata": {},
     "output_type": "execute_result"
    }
   ],
   "source": [
    "df = df.readme_contents.to_string()\n",
    "df"
   ]
  },
  {
   "cell_type": "code",
   "execution_count": 28,
   "id": "c92b27a8",
   "metadata": {},
   "outputs": [],
   "source": [
    "def basic_clean(string):\n",
    "    '''\n",
    "    This function takes in a string and\n",
    "    returns the string normalized.\n",
    "    '''\n",
    "    # we will normalize our data into standard NFKD unicode, feed it into an ascii encoding\n",
    "    # decode it back into UTF-8\n",
    "    string = unicodedata.normalize('NFKD', string)\\\n",
    "             .encode('ascii', 'ignore')\\\n",
    "             .decode('utf-8', 'ignore')\n",
    "    # utilize our regex substitution to remove our undesirable characters, then lowercase\n",
    "    string = re.sub(r\"[^\\w0-9'\\s]\", '', string).lower()\n",
    "    return string"
   ]
  },
  {
   "cell_type": "code",
   "execution_count": 29,
   "id": "baae19a1",
   "metadata": {},
   "outputs": [
    {
     "data": {
      "text/plain": [
       "\"0     freecodecamp social bannerhttpss3amaz\\n1     996icuhttps996icuen_usnn\\n2      list of free learning resources in many lang\\n3      coding interview universitynn i originall\\n4     div aligncenternta hrefhttpsvshym\\n5     p aligncentern  img srcpublicimages\\n6     englishreadmemd  readmejamd  \\n7      reacthttpsreactjsorg middot gi\\n8     bannerhttpscodecraftersiolandingima\\n9      you don't know js yet book series  2nd ed\\n10    freecodecamp social bannerhttpss3amaz\\n11     list of free learning resources in many lang\\n12    div aligncenternta hrefhttpsvshym\\n13    div aligncentern    h1public apish1\\n14    englishreadmemd  readmejamd  \\n15    p aligncentera hrefhttpsvuejsorg \\n16    bannerhttpscodecraftersiolandingima\\n17    div aligncentern  img srchttpswww\\n18     you don't know js yet book series  2nd ed\\n19    p aligncentern  a hrefhttpsgetboot\\n20    freecodecamp social bannerhttpss3amaz\\n21    996icuhttps996icuen_usnn\\n22     coding interview universitynn i originall\\n23    p aligncentern  img srcpublicimages\\n24    p aligncentera hrefhttpsvuejsorg \\n25    div aligncentern  img srchttpswww\\n26     you don't know js yet book series  2nd ed\\n27    div aligncenterrn    a hrefhttpsw\\n28          nn\\n29    p aligncenterimg srchttpsohmyzshs3\\n30    freecodecamp social bannerhttpss3amaz\\n31    996icuhttps996icuen_usnn\\n32     coding interview universitynn i originall\\n33    p aligncentern  img srcpublicimages\\n34    p aligncentera hrefhttpsvuejsorg \\n35    div aligncentern  img srchttpswww\\n36     you don't know js yet book series  2nd ed\\n37          nn\\n38    p aligncenterimg srchttpsohmyzshs3\\n39    div aligncentern title n  a hr\\n40    freecodecamp social bannerhttpss3amaz\\n41    996icuhttps996icuen_usnn\\n42     coding interview universitynn i originall\\n43    p aligncentern  img srcpublicimages\\n44    p aligncentera hrefhttpsvuejsorg \\n45    div aligncentern  img srchttpswww\\n46     you don't know js yet book series  2nd ed\\n47    div aligncenterrn    a hrefhttpsw\\n48          nn\\n49    p aligncenterimg srchttpsohmyzshs3\\n50    freecodecamp social bannerhttpss3amaz\\n51    996icuhttps996icuen_usnn\\n52     coding interview universitynn i originall\\n53    p aligncentern  img srcpublicimages\\n54    p aligncentera hrefhttpsvuejsorg \\n55    div aligncentern  img srchttpswww\\n56     you don't know js yet book series  2nd ed\\n57    div aligncenterrn    a hrefhttpsw\\n58          nn\\n59    p aligncenterimg srchttpsohmyzshs3\\n60    freecodecamp social bannerhttpss3amaz\\n61     coding interview universitynn i originall\\n62    p aligncentern  img srcpublicimages\\n63     you don't know js yet book series  2nd ed\\n64    div aligncenterrn    a hrefhttpsw\\n65    a hrefhttpsflutterdevn  h1 align\\n66     a collection of gitignore templatesnnth\\n67     visual studio code  open source code  os\\n68     the go programming languagenngo is an open\\n69    logologopnghttps30secondsofcodeo\\n70    996icuhttps996icuen_usnn\\n71     list of free learning resources in many lang\\n72     coding interview universitynn i originall\\n73    div aligncenternta hrefhttpsvshym\\n74    p aligncentern  img srcpublicimages\\n75    div aligncentern    h1public apish1\\n76    p aligncentera hrefhttpsvuejsorg \\n77     reacthttpsreactjsorg middot gi\\n78    bannerhttpscodecraftersiolandingima\\n79    div aligncentern  img srchttpswww\\n80    freecodecamp social bannerhttpss3amaz\\n81     list of free learning resources in many lang\\n82     coding interview universitynn i originall\\n83    div aligncenternta hrefhttpsvshym\\n84    p aligncentern  img srcpublicimages\\n85    div aligncentern    h1public apish1\\n86    englishreadmemd  readmejamd  \\n87    p aligncentera hrefhttpsvuejsorg \\n88     reacthttpsreactjsorg middot gi\\n89    bannerhttpscodecraftersiolandingima\\n90    freecodecamp social bannerhttpss3amaz\\n91    996icuhttps996icuen_usnn\\n92     coding interview universitynn i originall\\n93    div aligncenternta hrefhttpsvshym\\n94    p aligncentern  img srcpublicimages\\n95    div aligncentern    h1public apish1\\n96    p aligncentera hrefhttpsvuejsorg \\n97     reacthttpsreactjsorg middot gi\\n98    bannerhttpscodecraftersiolandingima\\n99    div aligncentern  img srchttpswww\""
      ]
     },
     "execution_count": 29,
     "metadata": {},
     "output_type": "execute_result"
    }
   ],
   "source": [
    "df = basic_clean(df)\n",
    "df"
   ]
  },
  {
   "cell_type": "code",
   "execution_count": 31,
   "id": "9c29aa91",
   "metadata": {},
   "outputs": [
    {
     "data": {
      "text/plain": [
       "0     freecodecamp social bannerhttpss3amaz\\n1     996icuhttps996icuen_usnn\\n2      list of free learning resources in many lang\\n3      coding interview universitynn i originall\\n4     div aligncenternta hrefhttpsvshym\\n5     p aligncentern  img srcpublicimages\\n6     englishreadmemd  readmejamd  \\n7      reacthttpsreactjsorg middot gi\\n8     bannerhttpscodecraftersiolandingima\\n9      you don't know js yet book series  2nd ed\\n10    freecodecamp social bannerhttpss3amaz\\n11     list of free learning resources in many lang\\n12    div aligncenternta hrefhttpsvshym\\n13    div aligncentern    h1public apish1\\n14    englishreadmemd  readmejamd  \\n15    p aligncentera hrefhttpsvuejsorg \\n16    bannerhttpscodecraftersiolandingima\\n17    div aligncentern  img srchttpswww\\n18     you don't know js yet book series  2nd ed\\n19    p aligncentern  a hrefhttpsgetboot\\n20    freecodecamp social bannerhttpss3amaz\\n21    996icuhttps996icuen_usnn\\n22     coding interview universitynn i originall\\n23    p aligncentern  img srcpublicimages\\n24    p aligncentera hrefhttpsvuejsorg \\n25    div aligncentern  img srchttpswww\\n26     you don't know js yet book series  2nd ed\\n27    div aligncenterrn    a hrefhttpsw\\n28          nn\\n29    p aligncenterimg srchttpsohmyzshs3\\n30    freecodecamp social bannerhttpss3amaz\\n31    996icuhttps996icuen_usnn\\n32     coding interview universitynn i originall\\n33    p aligncentern  img srcpublicimages\\n34    p aligncentera hrefhttpsvuejsorg \\n35    div aligncentern  img srchttpswww\\n36     you don't know js yet book series  2nd ed\\n37          nn\\n38    p aligncenterimg srchttpsohmyzshs3\\n39    div aligncentern title n  a hr\\n40    freecodecamp social bannerhttpss3amaz\\n41    996icuhttps996icuen_usnn\\n42     coding interview universitynn i originall\\n43    p aligncentern  img srcpublicimages\\n44    p aligncentera hrefhttpsvuejsorg \\n45    div aligncentern  img srchttpswww\\n46     you don't know js yet book series  2nd ed\\n47    div aligncenterrn    a hrefhttpsw\\n48          nn\\n49    p aligncenterimg srchttpsohmyzshs3\\n50    freecodecamp social bannerhttpss3amaz\\n51    996icuhttps996icuen_usnn\\n52     coding interview universitynn i originall\\n53    p aligncentern  img srcpublicimages\\n54    p aligncentera hrefhttpsvuejsorg \\n55    div aligncentern  img srchttpswww\\n56     you don't know js yet book series  2nd ed\\n57    div aligncenterrn    a hrefhttpsw\\n58          nn\\n59    p aligncenterimg srchttpsohmyzshs3\\n60    freecodecamp social bannerhttpss3amaz\\n61     coding interview universitynn i originall\\n62    p aligncentern  img srcpublicimages\\n63     you don't know js yet book series  2nd ed\\n64    div aligncenterrn    a hrefhttpsw\\n65    a hrefhttpsflutterdevn  h1 align\\n66     a collection of gitignore templatesnnth\\n67     visual studio code  open source code  os\\n68     the go programming languagenngo is an open\\n69    logologopnghttps30secondsofcodeo\\n70    996icuhttps996icuen_usnn\\n71     list of free learning resources in many lang\\n72     coding interview universitynn i originall\\n73    div aligncenternta hrefhttpsvshym\\n74    p aligncentern  img srcpublicimages\\n75    div aligncentern    h1public apish1\\n76    p aligncentera hrefhttpsvuejsorg \\n77     reacthttpsreactjsorg middot gi\\n78    bannerhttpscodecraftersiolandingima\\n79    div aligncentern  img srchttpswww\\n80    freecodecamp social bannerhttpss3amaz\\n81     list of free learning resources in many lang\\n82     coding interview universitynn i originall\\n83    div aligncenternta hrefhttpsvshym\\n84    p aligncentern  img srcpublicimages\\n85    div aligncentern    h1public apish1\\n86    englishreadmemd  readmejamd  \\n87    p aligncentera hrefhttpsvuejsorg \\n88     reacthttpsreactjsorg middot gi\\n89    bannerhttpscodecraftersiolandingima\\n90    freecodecamp social bannerhttpss3amaz\\n91    996icuhttps996icuen_usnn\\n92     coding interview universitynn i originall\\n93    div aligncenternta hrefhttpsvshym\\n94    p aligncentern  img srcpublicimages\\n95    div aligncentern    h1public apish1\\n96    p aligncentera hrefhttpsvuejsorg \\n97     reacthttpsreactjsorg middot gi\\n98    bannerhttpscodecraftersiolandingima\\n99    div aligncentern  img srchttpswww    1\n",
       "dtype: int64"
      ]
     },
     "execution_count": 31,
     "metadata": {},
     "output_type": "execute_result"
    }
   ],
   "source": [
    "series = pd.Series(df).value_counts()\n",
    "series"
   ]
  },
  {
   "cell_type": "code",
   "execution_count": 14,
   "id": "7a5f8ec6",
   "metadata": {},
   "outputs": [],
   "source": [
    "def tokenize(string):\n",
    "    '''\n",
    "    This function takes in a string and\n",
    "    returns a tokenized string.\n",
    "    '''\n",
    "    # make our tokenizer, taken from nltk's ToktokTokenizer\n",
    "    tokenizer = nltk.tokenize.ToktokTokenizer()\n",
    "    # apply our tokenizer's tokenization to the string being input, ensure it returns a string\n",
    "    string = tokenizer.tokenize(string, return_str = True)\n",
    "    \n",
    "    return string"
   ]
  },
  {
   "cell_type": "code",
   "execution_count": 15,
   "id": "1205f35e",
   "metadata": {},
   "outputs": [
    {
     "data": {
      "text/plain": [
       "\"0 freecodecamp social bannerhttpss3amaz\\n1 996icuhttps996icuen_usnn\\n2 list of free learning resources in many lang\\n3 coding interview universitynn i originall\\n4 div aligncenternta hrefhttpsvshym\\n5 p aligncentern img srcpublicimages\\n6 englishreadmemd readmejamd \\n7 reacthttpsreactjsorg middot gi\\n8 bannerhttpscodecraftersiolandingima\\n9 you don ' t know js yet book series 2nd ed\\n10 freecodecamp social bannerhttpss3amaz\\n11 list of free learning resources in many lang\\n12 div aligncenternta hrefhttpsvshym\\n13 div aligncentern h1public apish1\\n14 englishreadmemd readmejamd \\n15 p aligncentera hrefhttpsvuejsorg \\n16 bannerhttpscodecraftersiolandingima\\n17 div aligncentern img srchttpswww\\n18 you don ' t know js yet book series 2nd ed\\n19 p aligncentern a hrefhttpsgetboot\\n20 freecodecamp social bannerhttpss3amaz\\n21 996icuhttps996icuen_usnn\\n22 coding interview universitynn i originall\\n23 p aligncentern img srcpublicimages\\n24 p aligncentera hrefhttpsvuejsorg \\n25 div aligncentern img srchttpswww\\n26 you don ' t know js yet book series 2nd ed\\n27 div aligncenterrn a hrefhttpsw\\n28 nn\\n29 p aligncenterimg srchttpsohmyzshs3\\n30 freecodecamp social bannerhttpss3amaz\\n31 996icuhttps996icuen_usnn\\n32 coding interview universitynn i originall\\n33 p aligncentern img srcpublicimages\\n34 p aligncentera hrefhttpsvuejsorg \\n35 div aligncentern img srchttpswww\\n36 you don ' t know js yet book series 2nd ed\\n37 nn\\n38 p aligncenterimg srchttpsohmyzshs3\\n39 div aligncentern title n a hr\\n40 freecodecamp social bannerhttpss3amaz\\n41 996icuhttps996icuen_usnn\\n42 coding interview universitynn i originall\\n43 p aligncentern img srcpublicimages\\n44 p aligncentera hrefhttpsvuejsorg \\n45 div aligncentern img srchttpswww\\n46 you don ' t know js yet book series 2nd ed\\n47 div aligncenterrn a hrefhttpsw\\n48 nn\\n49 p aligncenterimg srchttpsohmyzshs3\\n50 freecodecamp social bannerhttpss3amaz\\n51 996icuhttps996icuen_usnn\\n52 coding interview universitynn i originall\\n53 p aligncentern img srcpublicimages\\n54 p aligncentera hrefhttpsvuejsorg \\n55 div aligncentern img srchttpswww\\n56 you don ' t know js yet book series 2nd ed\\n57 div aligncenterrn a hrefhttpsw\\n58 nn\\n59 p aligncenterimg srchttpsohmyzshs3\\n60 freecodecamp social bannerhttpss3amaz\\n61 coding interview universitynn i originall\\n62 p aligncentern img srcpublicimages\\n63 you don ' t know js yet book series 2nd ed\\n64 div aligncenterrn a hrefhttpsw\\n65 a hrefhttpsflutterdevn h1 align\\n66 a collection of gitignore templatesnnth\\n67 visual studio code open source code os\\n68 the go programming languagenngo is an open\\n69 logologopnghttps30secondsofcodeo\\n70 996icuhttps996icuen_usnn\\n71 list of free learning resources in many lang\\n72 coding interview universitynn i originall\\n73 div aligncenternta hrefhttpsvshym\\n74 p aligncentern img srcpublicimages\\n75 div aligncentern h1public apish1\\n76 p aligncentera hrefhttpsvuejsorg \\n77 reacthttpsreactjsorg middot gi\\n78 bannerhttpscodecraftersiolandingima\\n79 div aligncentern img srchttpswww\\n80 freecodecamp social bannerhttpss3amaz\\n81 list of free learning resources in many lang\\n82 coding interview universitynn i originall\\n83 div aligncenternta hrefhttpsvshym\\n84 p aligncentern img srcpublicimages\\n85 div aligncentern h1public apish1\\n86 englishreadmemd readmejamd \\n87 p aligncentera hrefhttpsvuejsorg \\n88 reacthttpsreactjsorg middot gi\\n89 bannerhttpscodecraftersiolandingima\\n90 freecodecamp social bannerhttpss3amaz\\n91 996icuhttps996icuen_usnn\\n92 coding interview universitynn i originall\\n93 div aligncenternta hrefhttpsvshym\\n94 p aligncentern img srcpublicimages\\n95 div aligncentern h1public apish1\\n96 p aligncentera hrefhttpsvuejsorg \\n97 reacthttpsreactjsorg middot gi\\n98 bannerhttpscodecraftersiolandingima\\n99 div aligncentern img srchttpswww\""
      ]
     },
     "execution_count": 15,
     "metadata": {},
     "output_type": "execute_result"
    }
   ],
   "source": [
    "df = tokenize(df)\n",
    "df"
   ]
  },
  {
   "cell_type": "code",
   "execution_count": 16,
   "id": "4198bf18",
   "metadata": {},
   "outputs": [],
   "source": [
    "def stem(string):\n",
    "    '''\n",
    "    This function takes in a string and\n",
    "    returns a string with words stemmed.\n",
    "    '''\n",
    "    # create our stemming object\n",
    "    ps = nltk.porter.PorterStemmer()\n",
    "    # use a list comprehension => stem each word for each word inside of the entire document,\n",
    "    # split by the default, which are single spaces\n",
    "    stems = [ps.stem(word) for word in string.split()]\n",
    "    # glue it back together with spaces, as it was before\n",
    "    string = ' '.join(stems)\n",
    "    \n",
    "    return string"
   ]
  },
  {
   "cell_type": "code",
   "execution_count": 17,
   "id": "627fe874",
   "metadata": {},
   "outputs": [
    {
     "data": {
      "text/plain": [
       "\"0 freecodecamp social bannerhttpss3amaz 1 996icuhttps996icuen_usnn 2 list of free learn resourc in mani lang 3 code interview universitynn i original 4 div aligncenternta hrefhttpsvshym 5 p aligncentern img srcpublicimag 6 englishreadmemd readmejamd 7 reacthttpsreactjsorg middot gi 8 bannerhttpscodecraftersiolandingima 9 you don ' t know js yet book seri 2nd ed 10 freecodecamp social bannerhttpss3amaz 11 list of free learn resourc in mani lang 12 div aligncenternta hrefhttpsvshym 13 div aligncentern h1public apish1 14 englishreadmemd readmejamd 15 p aligncentera hrefhttpsvuejsorg 16 bannerhttpscodecraftersiolandingima 17 div aligncentern img srchttpswww 18 you don ' t know js yet book seri 2nd ed 19 p aligncentern a hrefhttpsgetboot 20 freecodecamp social bannerhttpss3amaz 21 996icuhttps996icuen_usnn 22 code interview universitynn i original 23 p aligncentern img srcpublicimag 24 p aligncentera hrefhttpsvuejsorg 25 div aligncentern img srchttpswww 26 you don ' t know js yet book seri 2nd ed 27 div aligncenterrn a hrefhttpsw 28 nn 29 p aligncenterimg srchttpsohmyzshs3 30 freecodecamp social bannerhttpss3amaz 31 996icuhttps996icuen_usnn 32 code interview universitynn i original 33 p aligncentern img srcpublicimag 34 p aligncentera hrefhttpsvuejsorg 35 div aligncentern img srchttpswww 36 you don ' t know js yet book seri 2nd ed 37 nn 38 p aligncenterimg srchttpsohmyzshs3 39 div aligncentern titl n a hr 40 freecodecamp social bannerhttpss3amaz 41 996icuhttps996icuen_usnn 42 code interview universitynn i original 43 p aligncentern img srcpublicimag 44 p aligncentera hrefhttpsvuejsorg 45 div aligncentern img srchttpswww 46 you don ' t know js yet book seri 2nd ed 47 div aligncenterrn a hrefhttpsw 48 nn 49 p aligncenterimg srchttpsohmyzshs3 50 freecodecamp social bannerhttpss3amaz 51 996icuhttps996icuen_usnn 52 code interview universitynn i original 53 p aligncentern img srcpublicimag 54 p aligncentera hrefhttpsvuejsorg 55 div aligncentern img srchttpswww 56 you don ' t know js yet book seri 2nd ed 57 div aligncenterrn a hrefhttpsw 58 nn 59 p aligncenterimg srchttpsohmyzshs3 60 freecodecamp social bannerhttpss3amaz 61 code interview universitynn i original 62 p aligncentern img srcpublicimag 63 you don ' t know js yet book seri 2nd ed 64 div aligncenterrn a hrefhttpsw 65 a hrefhttpsflutterdevn h1 align 66 a collect of gitignor templatesnnth 67 visual studio code open sourc code os 68 the go program languagenngo is an open 69 logologopnghttps30secondsofcodeo 70 996icuhttps996icuen_usnn 71 list of free learn resourc in mani lang 72 code interview universitynn i original 73 div aligncenternta hrefhttpsvshym 74 p aligncentern img srcpublicimag 75 div aligncentern h1public apish1 76 p aligncentera hrefhttpsvuejsorg 77 reacthttpsreactjsorg middot gi 78 bannerhttpscodecraftersiolandingima 79 div aligncentern img srchttpswww 80 freecodecamp social bannerhttpss3amaz 81 list of free learn resourc in mani lang 82 code interview universitynn i original 83 div aligncenternta hrefhttpsvshym 84 p aligncentern img srcpublicimag 85 div aligncentern h1public apish1 86 englishreadmemd readmejamd 87 p aligncentera hrefhttpsvuejsorg 88 reacthttpsreactjsorg middot gi 89 bannerhttpscodecraftersiolandingima 90 freecodecamp social bannerhttpss3amaz 91 996icuhttps996icuen_usnn 92 code interview universitynn i original 93 div aligncenternta hrefhttpsvshym 94 p aligncentern img srcpublicimag 95 div aligncentern h1public apish1 96 p aligncentera hrefhttpsvuejsorg 97 reacthttpsreactjsorg middot gi 98 bannerhttpscodecraftersiolandingima 99 div aligncentern img srchttpswww\""
      ]
     },
     "execution_count": 17,
     "metadata": {},
     "output_type": "execute_result"
    }
   ],
   "source": [
    "df = stem(df)\n",
    "df"
   ]
  },
  {
   "cell_type": "code",
   "execution_count": 18,
   "id": "1c14c6db",
   "metadata": {},
   "outputs": [],
   "source": [
    "def lemmatize(string):\n",
    "    '''\n",
    "    This function takes in string for and\n",
    "    returns a string with words lemmatized.\n",
    "    '''\n",
    "    # create our lemmatizer object\n",
    "    wnl = nltk.stem.WordNetLemmatizer()\n",
    "    # use a list comprehension to lemmatize each word\n",
    "    # string.split() => output a list of every token inside of the document\n",
    "    lemmas = [wnl.lemmatize(word) for word in string.split()]\n",
    "    # glue the lemmas back together by the strings we split on\n",
    "    string = ' '.join(lemmas)\n",
    "    #return the altered document\n",
    "    return string"
   ]
  },
  {
   "cell_type": "code",
   "execution_count": 19,
   "id": "06d2df9d",
   "metadata": {},
   "outputs": [
    {
     "data": {
      "text/plain": [
       "\"0 freecodecamp social bannerhttpss3amaz 1 996icuhttps996icuen_usnn 2 list of free learn resourc in mani lang 3 code interview universitynn i original 4 div aligncenternta hrefhttpsvshym 5 p aligncentern img srcpublicimag 6 englishreadmemd readmejamd 7 reacthttpsreactjsorg middot gi 8 bannerhttpscodecraftersiolandingima 9 you don ' t know j yet book seri 2nd ed 10 freecodecamp social bannerhttpss3amaz 11 list of free learn resourc in mani lang 12 div aligncenternta hrefhttpsvshym 13 div aligncentern h1public apish1 14 englishreadmemd readmejamd 15 p aligncentera hrefhttpsvuejsorg 16 bannerhttpscodecraftersiolandingima 17 div aligncentern img srchttpswww 18 you don ' t know j yet book seri 2nd ed 19 p aligncentern a hrefhttpsgetboot 20 freecodecamp social bannerhttpss3amaz 21 996icuhttps996icuen_usnn 22 code interview universitynn i original 23 p aligncentern img srcpublicimag 24 p aligncentera hrefhttpsvuejsorg 25 div aligncentern img srchttpswww 26 you don ' t know j yet book seri 2nd ed 27 div aligncenterrn a hrefhttpsw 28 nn 29 p aligncenterimg srchttpsohmyzshs3 30 freecodecamp social bannerhttpss3amaz 31 996icuhttps996icuen_usnn 32 code interview universitynn i original 33 p aligncentern img srcpublicimag 34 p aligncentera hrefhttpsvuejsorg 35 div aligncentern img srchttpswww 36 you don ' t know j yet book seri 2nd ed 37 nn 38 p aligncenterimg srchttpsohmyzshs3 39 div aligncentern titl n a hr 40 freecodecamp social bannerhttpss3amaz 41 996icuhttps996icuen_usnn 42 code interview universitynn i original 43 p aligncentern img srcpublicimag 44 p aligncentera hrefhttpsvuejsorg 45 div aligncentern img srchttpswww 46 you don ' t know j yet book seri 2nd ed 47 div aligncenterrn a hrefhttpsw 48 nn 49 p aligncenterimg srchttpsohmyzshs3 50 freecodecamp social bannerhttpss3amaz 51 996icuhttps996icuen_usnn 52 code interview universitynn i original 53 p aligncentern img srcpublicimag 54 p aligncentera hrefhttpsvuejsorg 55 div aligncentern img srchttpswww 56 you don ' t know j yet book seri 2nd ed 57 div aligncenterrn a hrefhttpsw 58 nn 59 p aligncenterimg srchttpsohmyzshs3 60 freecodecamp social bannerhttpss3amaz 61 code interview universitynn i original 62 p aligncentern img srcpublicimag 63 you don ' t know j yet book seri 2nd ed 64 div aligncenterrn a hrefhttpsw 65 a hrefhttpsflutterdevn h1 align 66 a collect of gitignor templatesnnth 67 visual studio code open sourc code o 68 the go program languagenngo is an open 69 logologopnghttps30secondsofcodeo 70 996icuhttps996icuen_usnn 71 list of free learn resourc in mani lang 72 code interview universitynn i original 73 div aligncenternta hrefhttpsvshym 74 p aligncentern img srcpublicimag 75 div aligncentern h1public apish1 76 p aligncentera hrefhttpsvuejsorg 77 reacthttpsreactjsorg middot gi 78 bannerhttpscodecraftersiolandingima 79 div aligncentern img srchttpswww 80 freecodecamp social bannerhttpss3amaz 81 list of free learn resourc in mani lang 82 code interview universitynn i original 83 div aligncenternta hrefhttpsvshym 84 p aligncentern img srcpublicimag 85 div aligncentern h1public apish1 86 englishreadmemd readmejamd 87 p aligncentera hrefhttpsvuejsorg 88 reacthttpsreactjsorg middot gi 89 bannerhttpscodecraftersiolandingima 90 freecodecamp social bannerhttpss3amaz 91 996icuhttps996icuen_usnn 92 code interview universitynn i original 93 div aligncenternta hrefhttpsvshym 94 p aligncentern img srcpublicimag 95 div aligncentern h1public apish1 96 p aligncentera hrefhttpsvuejsorg 97 reacthttpsreactjsorg middot gi 98 bannerhttpscodecraftersiolandingima 99 div aligncentern img srchttpswww\""
      ]
     },
     "execution_count": 19,
     "metadata": {},
     "output_type": "execute_result"
    }
   ],
   "source": [
    "df = lemmatize(df)\n",
    "df"
   ]
  },
  {
   "cell_type": "code",
   "execution_count": 20,
   "id": "065efe85",
   "metadata": {},
   "outputs": [],
   "source": [
    "def remove_stopwords(string, extra_words = [], exclude_words = []):\n",
    "    '''\n",
    "    This function takes in a string, optional extra_words and exclude_words parameters\n",
    "    with default empty lists and returns a string.\n",
    "    '''\n",
    "    # assign our stopwords from nltk into stopword_list\n",
    "    stopword_list = stopwords.words('english')\n",
    "    # utilizing set casting, i will remove any excluded stopwords\n",
    "    stopword_list = set(stopword_list) - set(exclude_words)\n",
    "    # add in any extra words to my stopwords set using a union\n",
    "    stopword_list = stopword_list.union(set(extra_words))\n",
    "    # split our document by spaces\n",
    "    words = string.split()\n",
    "    # every word in our document, as long as that word is not in our stopwords\n",
    "    filtered_words = [word for word in words if word not in stopword_list]\n",
    "    # glue it back together with spaces, as it was so it shall be\n",
    "    string_without_stopwords = ' '.join(filtered_words)\n",
    "    # return the document back\n",
    "    return string_without_stopwords"
   ]
  },
  {
   "cell_type": "code",
   "execution_count": 21,
   "id": "31a6f6c3",
   "metadata": {},
   "outputs": [
    {
     "data": {
      "text/plain": [
       "\"0 freecodecamp social bannerhttpss3amaz 1 996icuhttps996icuen_usnn 2 list free learn resourc mani lang 3 code interview universitynn original 4 div aligncenternta hrefhttpsvshym 5 p aligncentern img srcpublicimag 6 englishreadmemd readmejamd 7 reacthttpsreactjsorg middot gi 8 bannerhttpscodecraftersiolandingima 9 ' know j yet book seri 2nd ed 10 freecodecamp social bannerhttpss3amaz 11 list free learn resourc mani lang 12 div aligncenternta hrefhttpsvshym 13 div aligncentern h1public apish1 14 englishreadmemd readmejamd 15 p aligncentera hrefhttpsvuejsorg 16 bannerhttpscodecraftersiolandingima 17 div aligncentern img srchttpswww 18 ' know j yet book seri 2nd ed 19 p aligncentern hrefhttpsgetboot 20 freecodecamp social bannerhttpss3amaz 21 996icuhttps996icuen_usnn 22 code interview universitynn original 23 p aligncentern img srcpublicimag 24 p aligncentera hrefhttpsvuejsorg 25 div aligncentern img srchttpswww 26 ' know j yet book seri 2nd ed 27 div aligncenterrn hrefhttpsw 28 nn 29 p aligncenterimg srchttpsohmyzshs3 30 freecodecamp social bannerhttpss3amaz 31 996icuhttps996icuen_usnn 32 code interview universitynn original 33 p aligncentern img srcpublicimag 34 p aligncentera hrefhttpsvuejsorg 35 div aligncentern img srchttpswww 36 ' know j yet book seri 2nd ed 37 nn 38 p aligncenterimg srchttpsohmyzshs3 39 div aligncentern titl n hr 40 freecodecamp social bannerhttpss3amaz 41 996icuhttps996icuen_usnn 42 code interview universitynn original 43 p aligncentern img srcpublicimag 44 p aligncentera hrefhttpsvuejsorg 45 div aligncentern img srchttpswww 46 ' know j yet book seri 2nd ed 47 div aligncenterrn hrefhttpsw 48 nn 49 p aligncenterimg srchttpsohmyzshs3 50 freecodecamp social bannerhttpss3amaz 51 996icuhttps996icuen_usnn 52 code interview universitynn original 53 p aligncentern img srcpublicimag 54 p aligncentera hrefhttpsvuejsorg 55 div aligncentern img srchttpswww 56 ' know j yet book seri 2nd ed 57 div aligncenterrn hrefhttpsw 58 nn 59 p aligncenterimg srchttpsohmyzshs3 60 freecodecamp social bannerhttpss3amaz 61 code interview universitynn original 62 p aligncentern img srcpublicimag 63 ' know j yet book seri 2nd ed 64 div aligncenterrn hrefhttpsw 65 hrefhttpsflutterdevn h1 align 66 collect gitignor templatesnnth 67 visual studio code open sourc code 68 go program languagenngo open 69 logologopnghttps30secondsofcodeo 70 996icuhttps996icuen_usnn 71 list free learn resourc mani lang 72 code interview universitynn original 73 div aligncenternta hrefhttpsvshym 74 p aligncentern img srcpublicimag 75 div aligncentern h1public apish1 76 p aligncentera hrefhttpsvuejsorg 77 reacthttpsreactjsorg middot gi 78 bannerhttpscodecraftersiolandingima 79 div aligncentern img srchttpswww 80 freecodecamp social bannerhttpss3amaz 81 list free learn resourc mani lang 82 code interview universitynn original 83 div aligncenternta hrefhttpsvshym 84 p aligncentern img srcpublicimag 85 div aligncentern h1public apish1 86 englishreadmemd readmejamd 87 p aligncentera hrefhttpsvuejsorg 88 reacthttpsreactjsorg middot gi 89 bannerhttpscodecraftersiolandingima 90 freecodecamp social bannerhttpss3amaz 91 996icuhttps996icuen_usnn 92 code interview universitynn original 93 div aligncenternta hrefhttpsvshym 94 p aligncentern img srcpublicimag 95 div aligncentern h1public apish1 96 p aligncentera hrefhttpsvuejsorg 97 reacthttpsreactjsorg middot gi 98 bannerhttpscodecraftersiolandingima 99 div aligncentern img srchttpswww\""
      ]
     },
     "execution_count": 21,
     "metadata": {},
     "output_type": "execute_result"
    }
   ],
   "source": [
    "df = remove_stopwords(df)\n",
    "df"
   ]
  },
  {
   "cell_type": "code",
   "execution_count": 41,
   "id": "c630c251",
   "metadata": {},
   "outputs": [
    {
     "ename": "IndentationError",
     "evalue": "unindent does not match any outer indentation level (<tokenize>, line 4)",
     "output_type": "error",
     "traceback": [
      "\u001b[0;36m  File \u001b[0;32m<tokenize>:4\u001b[0;36m\u001b[0m\n\u001b[0;31m    .apply(lambda s: s.astype(int)))\u001b[0m\n\u001b[0m    ^\u001b[0m\n\u001b[0;31mIndentationError\u001b[0m\u001b[0;31m:\u001b[0m unindent does not match any outer indentation level\n"
     ]
    }
   ],
   "source": [
    "word_counts = (pd.concat(all, axis=1, sort=True)\n",
    "                .set_axis('all'), axis==1, inplace==False)\n",
    "                .fillna(0)\n",
    "                    .apply(lambda s: s.astype(int)))\n",
    "\n",
    "word_counts.head()"
   ]
  },
  {
   "cell_type": "code",
   "execution_count": null,
   "id": "a000df47",
   "metadata": {},
   "outputs": [],
   "source": []
  }
 ],
 "metadata": {
  "kernelspec": {
   "display_name": "Python 3 (ipykernel)",
   "language": "python",
   "name": "python3"
  },
  "language_info": {
   "codemirror_mode": {
    "name": "ipython",
    "version": 3
   },
   "file_extension": ".py",
   "mimetype": "text/x-python",
   "name": "python",
   "nbconvert_exporter": "python",
   "pygments_lexer": "ipython3",
   "version": "3.9.12"
  }
 },
 "nbformat": 4,
 "nbformat_minor": 5
}
