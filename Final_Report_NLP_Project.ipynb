{
 "cells": [
  {
   "cell_type": "markdown",
   "id": "11bba3ec",
   "metadata": {},
   "source": [
    " # Final Report NLP Project"
   ]
  },
  {
   "cell_type": "markdown",
   "id": "d6eb8534",
   "metadata": {},
   "source": [
    "<div class=\"alert alert-info\">\n",
    "\n",
    "# Executive Summary:\n",
    "### Goals\n",
    "\n",
    "The goal of this classification project is to first identify key words of the programming language and create a machine learning model that can effectly predict the programming language used.\n",
    "\n",
    "### Key Findings\n",
    "\n",
    "* ...\n",
    "\n",
    "* ...\n",
    "\n",
    "* ...\n",
    "\n",
    "\n",
    "\n",
    "### Recommendation\n",
    "    \n",
    "* ...\n",
    "    \n",
    "* ...\n",
    "    \n",
    "* ...\n",
    "    \n"
   ]
  },
  {
   "cell_type": "markdown",
   "id": "b148b892",
   "metadata": {},
   "source": [
    "## **Project Goals:**"
   ]
  },
  {
   "cell_type": "markdown",
   "id": "2c9b3b01",
   "metadata": {},
   "source": [
    "The goal of this classification project is to first identify key words of the programming language and create a machine learning model that can effectly predict the programming language used."
   ]
  },
  {
   "cell_type": "markdown",
   "id": "eaeb77fb",
   "metadata": {},
   "source": [
    "## Imports"
   ]
  },
  {
   "cell_type": "code",
   "execution_count": 1,
   "id": "f6e1acc7",
   "metadata": {},
   "outputs": [],
   "source": [
    "import pandas as pd\n",
    "import numpy as np\n",
    "import matplotlib.pyplot as plt\n",
    "\n",
    "\n",
    "import prepare as p\n",
    "import acquire as a\n",
    "import explore as e\n",
    "import model as m\n",
    "randomseed = 123\n",
    "\n",
    "import warnings\n",
    "warnings.filterwarnings(\"ignore\")\n",
    "from scipy import stats"
   ]
  },
  {
   "cell_type": "code",
   "execution_count": 2,
   "id": "bc0d2831",
   "metadata": {},
   "outputs": [],
   "source": [
    "# setting basic style parameters for matplotlib\n",
    "plt.rc('figure', figsize=(13, 7))\n",
    "plt.style.use('seaborn-darkgrid')\n",
    "plt.rcParams.update({'font.size': 22})\n",
    "plt.rc('lines', linewidth = 5)"
   ]
  },
  {
   "cell_type": "markdown",
   "id": "d47e63fd",
   "metadata": {},
   "source": [
    "# Acquire:"
   ]
  },
  {
   "cell_type": "markdown",
   "id": "b6e8cc1a",
   "metadata": {},
   "source": [
    "Used function within module file aquire.py to webscrape ReadMe links from github repositories trending as \"most starred\". 1000 urls were sucessfuly obtained and then saved into a local csv file 'urls_final.csv'.\n",
    "\n",
    "Performed customized webscrape of url_final file to create usable dataframe that extracts the text and primary language used within each ReadMe. This was also saved into a local file csv 'readme_df.csv'."
   ]
  },
  {
   "cell_type": "markdown",
   "id": "83311917",
   "metadata": {},
   "source": [
    "* Data acquired through webscraping methods from GitHub on January 11, 2023 at 10pm and saved into readme_df.csv file\n",
    "\n",
    "* The data set contains 1000 rows and 3 columns before cleaning\n",
    "\n",
    "* Each row represents a link to a Githubs ReadMe repository that is trending \"most starred\"\n",
    "\n",
    "* Each column represents a feature from one Githubs ReadMe repository"
   ]
  },
  {
   "cell_type": "code",
   "execution_count": 3,
   "id": "5f4a18a2",
   "metadata": {},
   "outputs": [],
   "source": [
    "# acquire readme data\n",
    "df = pd.read_csv('readme_df.csv')"
   ]
  },
  {
   "cell_type": "markdown",
   "id": "8c32a11e",
   "metadata": {},
   "source": [
    "# Prepare:"
   ]
  },
  {
   "cell_type": "markdown",
   "id": "0bc58cd6",
   "metadata": {},
   "source": [
    "* Removed duplicate rows \n",
    "* Removed all Null values \n",
    "* Convert text to all lower case for normalcy\n",
    "* Removed any accented characters, non-ASCII characters\n",
    "* Removed special characters\n",
    "* Lemmatize the words\n",
    "* Remove stopwords\n",
    "* Removed irrelevant rows:\n",
    "    * Kept only the top 4 programming languages resulting in a total of 377 usable observations\n",
    "\n",
    "* Store the clean text and the original text for use in future notebooks.\n",
    "\n",
    "#### Split data into train, validate and test sets\n",
    "   * Approximately: train 56%, validate 24%, test 20%\n",
    "   * Stratified on 'language'"
   ]
  },
  {
   "cell_type": "markdown",
   "id": "f11fbd93",
   "metadata": {},
   "source": [
    "###                                                        <h1><center>Data Dictionary</center></h1>     \n",
    "| Feature | Definition |\n",
    "| :- | :- |\n",
    "| repo |url link for githubs most starred repositories|\n",
    "| language | Primary language of Repository|\n",
    "| readme_content| Text found inside the readme |\n"
   ]
  },
  {
   "cell_type": "code",
   "execution_count": 4,
   "id": "55ead39e",
   "metadata": {},
   "outputs": [],
   "source": [
    "# cleaning data\n",
    "df = p.data_prep(df)\n",
    "\n",
    "# prepare text for exploration \n",
    "df = p.text_prep(df)\n",
    "\n",
    "# split data: train, validate and test\n",
    "train, validate, test = p.split_data(df, 'language')"
   ]
  },
  {
   "cell_type": "markdown",
   "id": "03e989b5",
   "metadata": {},
   "source": [
    "# Explore:"
   ]
  },
  {
   "cell_type": "markdown",
   "id": "9879e4e5",
   "metadata": {},
   "source": [
    "## What programming language is most commonly used in our dataset?"
   ]
  },
  {
   "cell_type": "code",
   "execution_count": 5,
   "id": "c94dbc72",
   "metadata": {
    "scrolled": false
   },
   "outputs": [
    {
     "data": {
      "image/png": "[encoded data removed]",
      "text/plain": [
       "<Figure size 720x360 with 1 Axes>"
      ]
     },
     "metadata": {},
     "output_type": "display_data"
    }
   ],
   "source": [
    "#obtain viz\n",
    "e.bar_common_language(train)"
   ]
  },
  {
   "cell_type": "markdown",
   "id": "93087f71",
   "metadata": {},
   "source": [
    " * It appears that the most common language used is JavaScript"
   ]
  },
  {
   "cell_type": "markdown",
   "id": "12fdac35",
   "metadata": {},
   "source": [
    "## What is the average word count for each programming language?"
   ]
  },
  {
   "cell_type": "code",
   "execution_count": 6,
   "id": "b23241a5",
   "metadata": {
    "scrolled": true
   },
   "outputs": [
    {
     "data": {
      "image/png": "[encoded data removed]",
      "text/plain": [
       "<Figure size 720x360 with 1 Axes>"
      ]
     },
     "metadata": {},
     "output_type": "display_data"
    }
   ],
   "source": [
    "# Obtain viz\n",
    "JavaScript_words, Java_words, Python_words, TypeScript_words, all_words = e.number_words(train)\n",
    "JavaScript_freq, Java_freq, Python_freq, TypeScript_freq, all_freq = e.frequency_of_words(JavaScript_words, Java_words, Python_words, TypeScript_words, all_words)\n",
    "e.bar_average_word(train, JavaScript_freq, Java_freq, Python_freq, TypeScript_freq, all_freq)"
   ]
  },
  {
   "cell_type": "markdown",
   "id": "3a3cdb5e",
   "metadata": {},
   "source": [
    "* JavaScript, Python, and TypeScript are very close to the mean while Java is significantly lower"
   ]
  },
  {
   "cell_type": "markdown",
   "id": "f0a86d4a",
   "metadata": {},
   "source": [
    "## Is there a difference in sentiment by language?"
   ]
  },
  {
   "cell_type": "code",
   "execution_count": 8,
   "id": "185536c5",
   "metadata": {},
   "outputs": [],
   "source": [
    "# create sentimate dataframe for \n",
    "sentiment_df = train[['language','clean_text']]"
   ]
  },
  {
   "cell_type": "code",
   "execution_count": 22,
   "id": "26b069a5",
   "metadata": {
    "scrolled": true
   },
   "outputs": [
    {
     "data": {
      "image/png": "[encoded data removed]",
      "text/plain": [
       "<Figure size 432x360 with 2 Axes>"
      ]
     },
     "metadata": {},
     "output_type": "display_data"
    }
   ],
   "source": [
    "# Obtain viz\n",
    "e.get_sentiment(sentiment_df)"
   ]
  },
  {
   "cell_type": "markdown",
   "id": "1fb64347",
   "metadata": {},
   "source": [
    "* **We can see that JavaScript seems to have the most positive sentimate score than the rest of the languages**"
   ]
  },
  {
   "cell_type": "markdown",
   "id": "cafb9fb5",
   "metadata": {},
   "source": [
    "**I will now conduct a T-test to test for a significant difference between the mean of ....**\n",
    "\n",
    "* The confidence interval is 95%\n",
    "* Alpha is set to 0.05 \n",
    "* p/2 will be compared to alpha\n",
    "\n",
    "$H_0$: abcdfe.. == abcdfe..\n",
    "\n",
    "$H_a$: abcdfe. != abcdfe.."
   ]
  },
  {
   "cell_type": "code",
   "execution_count": null,
   "id": "167698ae",
   "metadata": {
    "scrolled": true
   },
   "outputs": [],
   "source": [
    "# Stats T-Test result\n",
    "e.get_ttest_..."
   ]
  },
  {
   "cell_type": "markdown",
   "id": "da02f78c",
   "metadata": {},
   "source": [
    "The p-value/2 is .... **There is  evidence to support that ....** Based on this statistical finding I believe ....\n"
   ]
  },
  {
   "cell_type": "markdown",
   "id": "8ad2a4c9",
   "metadata": {},
   "source": [
    "## Top 10 words used across the board?"
   ]
  },
  {
   "cell_type": "code",
   "execution_count": null,
   "id": "b42a55ac",
   "metadata": {
    "scrolled": true
   },
   "outputs": [],
   "source": [
    "# Obtain viz\n",
    "e.get_..."
   ]
  },
  {
   "cell_type": "markdown",
   "id": "e8c42d7e",
   "metadata": {},
   "source": [
    "* **We can see that...**"
   ]
  },
  {
   "cell_type": "markdown",
   "id": "f40b6040",
   "metadata": {},
   "source": [
    "##  Proportion of Python vs JavaScript for the 20 most common words"
   ]
  },
  {
   "cell_type": "code",
   "execution_count": null,
   "id": "9a687cea",
   "metadata": {
    "scrolled": true
   },
   "outputs": [],
   "source": [
    "# Obtain Viz\n",
    "e.get_..."
   ]
  },
  {
   "cell_type": "markdown",
   "id": "c67dc437",
   "metadata": {},
   "source": [
    "* **It seems that ...**"
   ]
  },
  {
   "cell_type": "markdown",
   "id": "430e06ce",
   "metadata": {},
   "source": [
    "## 20 Most frequently occuring JavaScript bigrams VS Python bigrams"
   ]
  },
  {
   "cell_type": "code",
   "execution_count": null,
   "id": "e4b2f72b",
   "metadata": {
    "scrolled": true
   },
   "outputs": [],
   "source": [
    "# Obtain Viz\n",
    "e.get_..."
   ]
  },
  {
   "cell_type": "markdown",
   "id": "11408672",
   "metadata": {},
   "source": [
    "* **It seems that ...**"
   ]
  },
  {
   "cell_type": "markdown",
   "id": "0babf409",
   "metadata": {},
   "source": [
    "# Exploration Summary"
   ]
  },
  {
   "cell_type": "markdown",
   "id": "f0f0c472",
   "metadata": {},
   "source": [
    "* a\n",
    "* b\n",
    "* c\n"
   ]
  },
  {
   "cell_type": "markdown",
   "id": "b91df37d",
   "metadata": {},
   "source": [
    "# Features that will be included in my model"
   ]
  },
  {
   "cell_type": "markdown",
   "id": "014f864c",
   "metadata": {},
   "source": [
    "* **a**  has a ...\n",
    "* **b**  has a ...\n",
    "* **c**  has a ...\n"
   ]
  },
  {
   "cell_type": "markdown",
   "id": "293fa781",
   "metadata": {},
   "source": [
    "# Features that will be not included in my model"
   ]
  },
  {
   "cell_type": "markdown",
   "id": "d20728ae",
   "metadata": {},
   "source": [
    "* **a** did not have...\n",
    "* **Ob** have unknow ...\n"
   ]
  },
  {
   "cell_type": "markdown",
   "id": "84774416",
   "metadata": {},
   "source": [
    "# Modeling:"
   ]
  },
  {
   "cell_type": "markdown",
   "id": "d9914f0a",
   "metadata": {},
   "source": [
    "* Accuracy is the metric use in the models.\n",
    "    * Accuracy helps gauge the percentage of correct predictions\n",
    "\n",
    "* Baseline will be 45 % accuracy:\n",
    "    * Since the biggest language in our data set is JavaScript\n",
    "    * And JavaScript makes up 45% of the data \n",
    "    * by guessing the primary language is JavaScript we will be correct 45% of the time\n",
    "    \n",
    "* I will evaluate my top model of Decision Tree, KNN, and Logistic Regression on train and validate data\n",
    "* The model that performs the best will then be evaluated on test data"
   ]
  },
  {
   "cell_type": "code",
   "execution_count": null,
   "id": "ac396bdd",
   "metadata": {},
   "outputs": [],
   "source": [
    "df"
   ]
  },
  {
   "cell_type": "code",
   "execution_count": null,
   "id": "b81167af",
   "metadata": {},
   "outputs": [],
   "source": [
    "# prep data for modeling\n",
    "X_train,y_train,X_validate,y_validate, X_test, y_test= m. model_prep(train,validate,test)"
   ]
  },
  {
   "cell_type": "code",
   "execution_count": null,
   "id": "1511bbd8",
   "metadata": {},
   "outputs": [],
   "source": [
    "X_train"
   ]
  },
  {
   "cell_type": "markdown",
   "id": "5ee628c6",
   "metadata": {},
   "source": [
    "## Decision Tree"
   ]
  },
  {
   "cell_type": "code",
   "execution_count": null,
   "id": "5983266b",
   "metadata": {
    "scrolled": true
   },
   "outputs": [],
   "source": [
    "# Get Decision Tree results\n",
    "m.get_tree_model(x_train,y_train,x_validate,y_validate)"
   ]
  },
  {
   "cell_type": "markdown",
   "id": "c6098a3d",
   "metadata": {},
   "source": [
    "**The accuracy of the Decision Tree model is above the baseline in both train and validate.** "
   ]
  },
  {
   "cell_type": "markdown",
   "id": "c3148e4a",
   "metadata": {},
   "source": [
    "## KNN"
   ]
  },
  {
   "cell_type": "code",
   "execution_count": null,
   "id": "e748bc35",
   "metadata": {},
   "outputs": [],
   "source": [
    "# Get KNN model results\n",
    "m.get_knn_model(x_train,y_train,x_validate,y_validate)"
   ]
  },
  {
   "cell_type": "markdown",
   "id": "7d706d99",
   "metadata": {},
   "source": [
    "**The accuracy of the KNN is above the baseline in both train and validate.** "
   ]
  },
  {
   "cell_type": "markdown",
   "id": "b804b6f0",
   "metadata": {},
   "source": [
    "## Logistic Regression"
   ]
  },
  {
   "cell_type": "code",
   "execution_count": null,
   "id": "8b505463",
   "metadata": {
    "scrolled": true
   },
   "outputs": [],
   "source": [
    "# Get Logic Regression model results\n",
    "m.get_...(x_train,y_train,x_validate,y_validate)"
   ]
  },
  {
   "cell_type": "markdown",
   "id": "fd22cbfd",
   "metadata": {},
   "source": [
    "**The accuracy of the Logistic Regression model is above the baseline in both train and validate.** "
   ]
  },
  {
   "cell_type": "markdown",
   "id": "c07aaeb2",
   "metadata": {},
   "source": [
    "# Comparing Models"
   ]
  },
  {
   "cell_type": "markdown",
   "id": "d6e42405",
   "metadata": {},
   "source": [
    "* ...\n",
    "* ...\n",
    "* ..."
   ]
  },
  {
   "cell_type": "markdown",
   "id": "337e98f9",
   "metadata": {},
   "source": [
    "# Top Model on Test data"
   ]
  },
  {
   "cell_type": "code",
   "execution_count": null,
   "id": "08c630c9",
   "metadata": {},
   "outputs": [],
   "source": [
    "m.get_...(x_train,y_train,x_test,y_test, True)"
   ]
  },
  {
   "cell_type": "markdown",
   "id": "7a3f2e74",
   "metadata": {},
   "source": [
    "## Modeling Summary"
   ]
  },
  {
   "cell_type": "markdown",
   "id": "c40cc762",
   "metadata": {},
   "source": [
    "* model abc...\n",
    "\n",
    "* model abc..."
   ]
  },
  {
   "cell_type": "markdown",
   "id": "f896f6c0",
   "metadata": {},
   "source": [
    "# Conclusion"
   ]
  },
  {
   "cell_type": "markdown",
   "id": "fcbf80fc",
   "metadata": {},
   "source": [
    "## Exploration\n",
    "\n"
   ]
  },
  {
   "cell_type": "markdown",
   "id": "8fbf3a1f",
   "metadata": {},
   "source": [
    "* ..\n",
    "* a\n",
    "* b"
   ]
  },
  {
   "cell_type": "markdown",
   "id": "058105b7",
   "metadata": {},
   "source": [
    "## Modeling"
   ]
  },
  {
   "cell_type": "markdown",
   "id": "ed93530a",
   "metadata": {},
   "source": [
    "**The final model performed ....**"
   ]
  },
  {
   "cell_type": "markdown",
   "id": "c1a19a11",
   "metadata": {},
   "source": [
    "## Recommendations"
   ]
  },
  {
   "cell_type": "markdown",
   "id": "7030b4ae",
   "metadata": {},
   "source": [
    "* a\n",
    "* b\n",
    "* c"
   ]
  },
  {
   "cell_type": "markdown",
   "id": "14228d48",
   "metadata": {},
   "source": [
    "## Next Steps"
   ]
  },
  {
   "cell_type": "markdown",
   "id": "8550784b",
   "metadata": {},
   "source": [
    "* a\n",
    "* b\n",
    "* c"
   ]
  }
 ],
 "metadata": {
  "kernelspec": {
   "display_name": "Python 3 (ipykernel)",
   "language": "python",
   "name": "python3"
  },
  "language_info": {
   "codemirror_mode": {
    "name": "ipython",
    "version": 3
   },
   "file_extension": ".py",
   "mimetype": "text/x-python",
   "name": "python",
   "nbconvert_exporter": "python",
   "pygments_lexer": "ipython3",
   "version": "3.9.12"
  }
 },
 "nbformat": 4,
 "nbformat_minor": 5
}
