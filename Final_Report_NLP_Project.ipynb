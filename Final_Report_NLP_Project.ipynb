{
 "cells": [
  {
   "cell_type": "markdown",
   "id": "11bba3ec",
   "metadata": {},
   "source": [
    " # Final Report NLP Project"
   ]
  },
  {
   "cell_type": "markdown",
   "id": "d6eb8534",
   "metadata": {},
   "source": [
    "<div class=\"alert alert-info\">\n",
    "\n",
    "# Executive Summary:\n",
    "### Goals\n",
    "\n",
    "The goal of this classification project is to first identify key words of the programming language and create a machine learning model that can effectly predict the programming language used.\n",
    "\n",
    "### Key Findings\n",
    "\n",
    "* ...\n",
    "\n",
    "* ...\n",
    "\n",
    "* ...\n",
    "\n",
    "\n",
    "\n",
    "### Recommendation\n",
    "    \n",
    "* ...\n",
    "    \n",
    "* ...\n",
    "    \n",
    "* ...\n",
    "    \n"
   ]
  },
  {
   "cell_type": "markdown",
   "id": "b148b892",
   "metadata": {},
   "source": [
    "## **Project Goals:**"
   ]
  },
  {
   "cell_type": "markdown",
   "id": "2c9b3b01",
   "metadata": {},
   "source": [
    "The goal of this classification project is to first identify key words of the programming language and create a machine learning model that can effectly predict the programming language used."
   ]
  },
  {
   "cell_type": "markdown",
   "id": "eaeb77fb",
   "metadata": {},
   "source": [
    "## Imports"
   ]
  },
  {
   "cell_type": "code",
   "execution_count": 1,
   "id": "f6e1acc7",
   "metadata": {},
   "outputs": [],
   "source": [
    "import pandas as pd\n",
    "import numpy as np\n",
    "import matplotlib.pyplot as plt\n",
    "\n",
    "\n",
    "import prepare as p\n",
    "import acquire as a\n",
    "import explore as e\n",
    "import model as m\n",
    "randomseed = 123\n",
    "\n",
    "import warnings\n",
    "warnings.filterwarnings(\"ignore\")\n",
    "from scipy import stats\n",
    "\n"
   ]
  },
  {
   "cell_type": "code",
   "execution_count": 2,
   "id": "bc0d2831",
   "metadata": {},
   "outputs": [],
   "source": [
    "from IPython.display import display, HTML\n",
    "\n",
    "plt.rc('figure', figsize=(13, 7))\n",
    "plt.style.use('seaborn-darkgrid')\n",
    "plt.rcParams.update({'font.size': 20})\n",
    "plt.rc('lines', linewidth = 5)"
   ]
  },
  {
   "cell_type": "markdown",
   "id": "d47e63fd",
   "metadata": {},
   "source": [
    "# Acquire:"
   ]
  },
  {
   "cell_type": "markdown",
   "id": "b6e8cc1a",
   "metadata": {},
   "source": [
    "Used function within module file aquire.py to webscrape ReadMe links from github repositories trending as \"most starred\". 1000 urls were sucessfuly obtained and then saved into a local csv file 'urls_final.csv'.\n",
    "\n",
    "Performed customized webscrape of url_final file to create usable dataframe that extracts the text and primary language used within each ReadMe. This was also saved into a local file csv 'readme_df.csv'."
   ]
  },
  {
   "cell_type": "markdown",
   "id": "83311917",
   "metadata": {},
   "source": [
    "* Data acquired through webscraping methods from GitHub on January 11, 2023 at 10pm and saved into readme_df.csv file\n",
    "\n",
    "* The data set contains 1000 rows and 3 columns before cleaning\n",
    "\n",
    "* Each row represents a link to a Githubs ReadMe repository that is trending \"most starred\"\n",
    "\n",
    "* Each column represents a feature from one Githubs ReadMe repository"
   ]
  },
  {
   "cell_type": "code",
   "execution_count": 3,
   "id": "5f4a18a2",
   "metadata": {},
   "outputs": [],
   "source": [
    "# acquire readme data\n",
    "df = pd.read_csv('readme_df.csv')"
   ]
  },
  {
   "cell_type": "markdown",
   "id": "8c32a11e",
   "metadata": {},
   "source": [
    "# Prepare:"
   ]
  },
  {
   "cell_type": "markdown",
   "id": "0bc58cd6",
   "metadata": {},
   "source": [
    "* Removed duplicate rows \n",
    "* Removed all Null values \n",
    "* Convert text to all lower case for normalcy\n",
    "* Removed any accented characters, non-ASCII characters\n",
    "* Removed special characters\n",
    "* Lemmatize the words\n",
    "* Remove stopwords\n",
    "* Removed irrelevant rows:\n",
    "    * Kept only the top 4 programming languages resulting in a total of 377 usable observations\n",
    "\n",
    "* Store the clean text and the original text for use in future notebooks.\n",
    "\n",
    "#### Split data into train, validate and test sets\n",
    "   * Approximately: train 56%, validate 24%, test 20%\n",
    "   * Stratified on 'language'"
   ]
  },
  {
   "cell_type": "markdown",
   "id": "f11fbd93",
   "metadata": {},
   "source": [
    "###                                                        <h1><center>Data Dictionary</center></h1>     \n",
    "| Feature | Definition |\n",
    "| :- | :- |\n",
    "| repo |url link for githubs most starred repositories|\n",
    "| language | Primary language of Repository|\n",
    "| readme_content| Text found inside the readme |\n"
   ]
  },
  {
   "cell_type": "code",
   "execution_count": 4,
   "id": "55ead39e",
   "metadata": {},
   "outputs": [],
   "source": [
    "# cleaning data\n",
    "df = p.data_prep(df)\n",
    "\n",
    "# prepare text for exploration \n",
    "df = p.text_prep(df)\n",
    "\n",
    "# split data: train, validate and test\n",
    "train, validate, test = p.split_data(df, 'language')"
   ]
  },
  {
   "cell_type": "markdown",
   "id": "03e989b5",
   "metadata": {},
   "source": [
    "# Explore:"
   ]
  },
  {
   "cell_type": "markdown",
   "id": "9879e4e5",
   "metadata": {},
   "source": [
    "## What programming language is most commonly used in our dataset?"
   ]
  },
  {
   "cell_type": "code",
   "execution_count": 34,
   "id": "1fb35e51",
   "metadata": {
    "scrolled": true
   },
   "outputs": [
    {
     "data": {
      "text/plain": [
       "['#7fc97f',\n",
       " '#beaed4',\n",
       " '#fdc086',\n",
       " '#ffff99',\n",
       " '#386cb0',\n",
       " '#f0027f',\n",
       " '#bf5b17',\n",
       " '#666666']"
      ]
     },
     "execution_count": 34,
     "metadata": {},
     "output_type": "execute_result"
    }
   ],
   "source": [
    "pal = sns.color_palette('Accent')\n",
    "pal.as_hex()[:]"
   ]
  },
  {
   "cell_type": "code",
   "execution_count": 35,
   "id": "4ae0e929",
   "metadata": {},
   "outputs": [
    {
     "data": {
      "text/html": [
       "<svg  width=\"440\" height=\"55\"><rect x=\"0\" y=\"0\" width=\"55\" height=\"55\" style=\"fill:#7fc97f;stroke-width:2;stroke:rgb(255,255,255)\"/><rect x=\"55\" y=\"0\" width=\"55\" height=\"55\" style=\"fill:#beaed4;stroke-width:2;stroke:rgb(255,255,255)\"/><rect x=\"110\" y=\"0\" width=\"55\" height=\"55\" style=\"fill:#fdc086;stroke-width:2;stroke:rgb(255,255,255)\"/><rect x=\"165\" y=\"0\" width=\"55\" height=\"55\" style=\"fill:#ffff99;stroke-width:2;stroke:rgb(255,255,255)\"/><rect x=\"220\" y=\"0\" width=\"55\" height=\"55\" style=\"fill:#386cb0;stroke-width:2;stroke:rgb(255,255,255)\"/><rect x=\"275\" y=\"0\" width=\"55\" height=\"55\" style=\"fill:#f0027f;stroke-width:2;stroke:rgb(255,255,255)\"/><rect x=\"330\" y=\"0\" width=\"55\" height=\"55\" style=\"fill:#bf5b17;stroke-width:2;stroke:rgb(255,255,255)\"/><rect x=\"385\" y=\"0\" width=\"55\" height=\"55\" style=\"fill:#666666;stroke-width:2;stroke:rgb(255,255,255)\"/></svg>"
      ],
      "text/plain": [
       "['#7fc97f',\n",
       " '#beaed4',\n",
       " '#fdc086',\n",
       " '#ffff99',\n",
       " '#386cb0',\n",
       " '#f0027f',\n",
       " '#bf5b17',\n",
       " '#666666']"
      ]
     },
     "execution_count": 35,
     "metadata": {},
     "output_type": "execute_result"
    }
   ],
   "source": [
    "pal = sns.color_palette('Accent')\n",
    "pal.as_hex()\n"
   ]
  },
  {
   "cell_type": "code",
   "execution_count": 47,
   "id": "391ed482",
   "metadata": {},
   "outputs": [
    {
     "data": {
      "image/png": "[encoded data removed]",
      "text/plain": [
       "<Figure size 720x360 with 1 Axes>"
      ]
     },
     "metadata": {},
     "output_type": "display_data"
    }
   ],
   "source": [
    "def bar_common_language(train):\n",
    "    fig = plt.figure(figsize = (10, 5))\n",
    "    ax = fig.add_axes([0,0,1,1])\n",
    "    langs = ['Java', 'JavaScript', 'Python', 'TypeScript']\n",
    "    language = [len(train[train.language == 'Java']), len(train[train.language == 'JavaScript']), len(train[train.language == 'Python']), len(train[train.language == 'TypeScript'])]\n",
    "    ax.bar(langs,language , color=['#beaed4','#f0027f','#7fc97f','#fdc086'])\n",
    "    plt.xlabel(\"\")\n",
    "    plt.ylabel(\"Repo Count\")\n",
    "    plt.title(\"Language most commonly used\")\n",
    "\n",
    "    plt.show()\n",
    "bar_common_language(train)"
   ]
  },
  {
   "cell_type": "code",
   "execution_count": 18,
   "id": "c94dbc72",
   "metadata": {
    "scrolled": true
   },
   "outputs": [
    {
     "data": {
      "image/png": "[encoded data removed]",
      "text/plain": [
       "<Figure size 720x360 with 1 Axes>"
      ]
     },
     "metadata": {},
     "output_type": "display_data"
    }
   ],
   "source": [
    "#obtain viz\n",
    "e.bar_common_language(train)"
   ]
  },
  {
   "cell_type": "markdown",
   "id": "93087f71",
   "metadata": {},
   "source": [
    " * It appears that the most common language used is JavaScript"
   ]
  },
  {
   "cell_type": "markdown",
   "id": "12fdac35",
   "metadata": {},
   "source": [
    "## What is the average word count for each programming language?"
   ]
  },
  {
   "cell_type": "code",
   "execution_count": 6,
   "id": "b23241a5",
   "metadata": {
    "scrolled": false
   },
   "outputs": [
    {
     "data": {
      "image/png": "[encoded data removed]",
      "text/plain": [
       "<Figure size 720x360 with 1 Axes>"
      ]
     },
     "metadata": {},
     "output_type": "display_data"
    }
   ],
   "source": [
    "# Obtain viz\n",
    "JavaScript_words, Java_words, Python_words, TypeScript_words, all_words = e.number_words(train)\n",
    "JavaScript_freq, Java_freq, Python_freq, TypeScript_freq, all_freq = e.frequency_of_words(JavaScript_words, Java_words, Python_words, TypeScript_words, all_words)\n",
    "e.bar_average_word(train, JavaScript_freq, Java_freq, Python_freq, TypeScript_freq, all_freq)"
   ]
  },
  {
   "cell_type": "markdown",
   "id": "3a3cdb5e",
   "metadata": {},
   "source": [
    "* JavaScript, Python, and TypeScript are very close to the mean while Java is significantly lower"
   ]
  },
  {
   "cell_type": "markdown",
   "id": "f0a86d4a",
   "metadata": {},
   "source": [
    "## Is there a difference in sentiment by language?"
   ]
  },
  {
   "cell_type": "code",
   "execution_count": 7,
   "id": "185536c5",
   "metadata": {},
   "outputs": [],
   "source": [
    "# create sentimate dataframe for \n",
    "sentiment_df = train[['language','clean_text']]"
   ]
  },
  {
   "cell_type": "code",
   "execution_count": 8,
   "id": "26b069a5",
   "metadata": {
    "scrolled": false
   },
   "outputs": [
    {
     "data": {
      "image/png": "[encoded data removed]",
      "text/plain": [
       "<Figure size 432x360 with 1 Axes>"
      ]
     },
     "metadata": {},
     "output_type": "display_data"
    }
   ],
   "source": [
    "# Obtain viz\n",
    "sentiment_df = e.get_sentiment(sentiment_df)"
   ]
  },
  {
   "cell_type": "markdown",
   "id": "1fb64347",
   "metadata": {},
   "source": [
    "* **We can see that JavaScript seems to have the most positive sentimate score than Java**"
   ]
  },
  {
   "cell_type": "markdown",
   "id": "cafb9fb5",
   "metadata": {},
   "source": [
    "**I will now conduct a T-test to test for a significant difference between the mean sentiment score of JavaScript and the mean sentiment score of Java**\n",
    "\n",
    "* The confidence interval is 95%\n",
    "* Alpha is set to 0.05 \n",
    "* p/2 will be compared to alpha\n",
    "\n",
    "$H_0$: The mean sentiment score of JavaScript <= the mean sentiment score of Java\n",
    "\n",
    "$H_a$: The mean sentiment score of JavaScript > the mean sentiment score of Java"
   ]
  },
  {
   "cell_type": "code",
   "execution_count": 12,
   "id": "03a76fc6",
   "metadata": {},
   "outputs": [
    {
     "name": "stdout",
     "output_type": "stream",
     "text": [
      "t_stat= -2.731820676937966, p_value= 0.0035978710840775243\n",
      "-----------------------------------------------------------\n",
      "We reject the null Hypothesis\n"
     ]
    }
   ],
   "source": [
    "# Stats T-Test result\n",
    "e.get_stats_ttest(sentiment_df)"
   ]
  },
  {
   "cell_type": "markdown",
   "id": "da02f78c",
   "metadata": {},
   "source": [
    "Since the p-value/2 is less than the alpha value we reject the null hypothesis. **There is  evidence to support that  diffirence between the mean sentiment score of JavaScript and the mean sentiment score of Java is significant**\n"
   ]
  },
  {
   "cell_type": "markdown",
   "id": "8ad2a4c9",
   "metadata": {},
   "source": [
    "## Top words used across the board?"
   ]
  },
  {
   "cell_type": "code",
   "execution_count": null,
   "id": "c2b99b5c",
   "metadata": {},
   "outputs": [],
   "source": [
    "# create subgrous\n",
    "javaScript_words, java_words, python_words, typeScript_words, all_words = e.create_subgroups(train)\n",
    "#prepare subgroups , create frequency count\n",
    "JavaScript_freq,Java_freq,Python_freq, TypeScript_freq, All_words_freq= e.get_frequency(javaScript_words, java_words, python_words, typeScript_words, all_words)\n",
    "# create word counts\n",
    "word_counts = e.create_wordcounts(JavaScript_freq,Java_freq,Python_freq, TypeScript_freq, All_words_freq)"
   ]
  },
  {
   "cell_type": "code",
   "execution_count": null,
   "id": "b42a55ac",
   "metadata": {
    "scrolled": false
   },
   "outputs": [],
   "source": [
    "# obtain word cloud\n",
    "e.get_wordcloud(word_counts)"
   ]
  },
  {
   "cell_type": "markdown",
   "id": "e8c42d7e",
   "metadata": {},
   "source": [
    "* **We can see that the word \"Yes\" is a top word along with \"toptableofcontents\"**"
   ]
  },
  {
   "cell_type": "markdown",
   "id": "f40b6040",
   "metadata": {},
   "source": [
    "##  Top 10  unique words to Python vs JavaScript"
   ]
  },
  {
   "cell_type": "code",
   "execution_count": null,
   "id": "5506e34d",
   "metadata": {},
   "outputs": [],
   "source": [
    "def get_unique_words(word_counts):\n",
    "    unique_df = pd.concat([word_counts[word_counts.JavaScript == 0].sort_values(by='Python').tail(10),\n",
    "           word_counts[word_counts.Python == 0].sort_values(by='JavaScript').tail(10)])\n",
    "    unique_javascript_words =pd.DataFrame(unique_df.JavaScript.tail(10))\n",
    "    unique_python_words =pd.DataFrame(unique_df.Python.head(10))\n",
    "    display(unique_python_words)\n",
    "    display(unique_javascript_words)"
   ]
  },
  {
   "cell_type": "code",
   "execution_count": null,
   "id": "9a687cea",
   "metadata": {
    "scrolled": false
   },
   "outputs": [],
   "source": [
    "# Obtain unique words\n",
    "get_unique_words(word_counts)"
   ]
  },
  {
   "cell_type": "markdown",
   "id": "c67dc437",
   "metadata": {},
   "source": [
    "* **It seems that ...**"
   ]
  },
  {
   "cell_type": "markdown",
   "id": "430e06ce",
   "metadata": {},
   "source": [
    "## 20 Most frequently occuring JavaScript bigrams VS Python bigrams"
   ]
  },
  {
   "cell_type": "code",
   "execution_count": null,
   "id": "ab88fcdd",
   "metadata": {},
   "outputs": [],
   "source": [
    "# create bigrams\n",
    "e.get_bigrams(python_words,2)\n",
    "e.get_bigrams(javaScript_words,2)\n",
    "# Obtain Viz\n",
    "e.get_bigrams_graphs(python_words, javaScript_words)"
   ]
  },
  {
   "cell_type": "markdown",
   "id": "11408672",
   "metadata": {},
   "source": [
    "* **It seems that in github repositories trending as \"most starred\" whose primary language is python, bigrams that contain the word yes are popular. As for repositories whose primary language is JavaScript bigrams that start with toptableofcontents are popular.**"
   ]
  },
  {
   "cell_type": "markdown",
   "id": "0babf409",
   "metadata": {},
   "source": [
    "# Exploration Summary"
   ]
  },
  {
   "cell_type": "markdown",
   "id": "d9914f0a",
   "metadata": {},
   "source": [
    "* Accuracy is the metric use in the models.\n",
    "    * Accuracy helps gauge the percentage of correct predictions\n",
    "\n",
    "* Baseline will be 45 % accuracy:\n",
    "    * Since the biggest language in our data set is JavaScript\n",
    "    * And JavaScript makes up 45% of the data \n",
    "    * by guessing the primary language is JavaScript we will be correct 45% of the time\n",
    "    \n",
    "* I will evaluate my top model of Decision Tree, KNN, and Logistic Regression on train and validate data\n",
    "* The model that performs the best will then be evaluated on test data"
   ]
  },
  {
   "cell_type": "markdown",
   "id": "84774416",
   "metadata": {},
   "source": [
    "# Modeling:"
   ]
  },
  {
   "cell_type": "code",
   "execution_count": null,
   "id": "b81167af",
   "metadata": {},
   "outputs": [],
   "source": [
    "# prep data for modeling\n",
    "X_train,y_train,X_validate,y_validate, X_test, y_test= m. model_prep(train,validate,test)"
   ]
  },
  {
   "cell_type": "code",
   "execution_count": null,
   "id": "55aa1ab1",
   "metadata": {},
   "outputs": [],
   "source": [
    "# create countvectorizer for modeling nlp\n",
    "cv = m.cv_countvectorizer(X_train)"
   ]
  },
  {
   "cell_type": "markdown",
   "id": "5ee628c6",
   "metadata": {},
   "source": [
    "## Decision Tree"
   ]
  },
  {
   "cell_type": "code",
   "execution_count": null,
   "id": "13d528c9",
   "metadata": {},
   "outputs": [],
   "source": [
    "# Get Decision Tree results\n",
    "DecisionTree_Train, DecisionTree_Validate = m.get_tree(X_train,y_train,X_validate,y_validate,cv)\n",
    "\n"
   ]
  },
  {
   "cell_type": "markdown",
   "id": "c6098a3d",
   "metadata": {},
   "source": [
    "**The accuracy of the Decision Tree model is above the baseline in both train and validate.** "
   ]
  },
  {
   "cell_type": "markdown",
   "id": "c3148e4a",
   "metadata": {},
   "source": [
    "## KNN"
   ]
  },
  {
   "cell_type": "code",
   "execution_count": null,
   "id": "e748bc35",
   "metadata": {},
   "outputs": [],
   "source": [
    "# Get KNN model results\n",
    "KNN_Train,KNN_Validate = m.get_knn(X_train,y_train,X_validate,y_validate,cv)\n",
    "KNN_Train,KNN_Validate "
   ]
  },
  {
   "cell_type": "markdown",
   "id": "7d706d99",
   "metadata": {},
   "source": [
    "**The accuracy of the KNN is slighly above the baseline in both train and validate.** "
   ]
  },
  {
   "cell_type": "markdown",
   "id": "b804b6f0",
   "metadata": {},
   "source": [
    "## Random Forest"
   ]
  },
  {
   "cell_type": "code",
   "execution_count": null,
   "id": "8b505463",
   "metadata": {
    "scrolled": true
   },
   "outputs": [],
   "source": [
    "# Get Random Forest model results\n",
    "RandomForest_Train,RandomForest_Validate =m.get_forest(X_train,y_train,X_validate,y_validate,cv)\n"
   ]
  },
  {
   "cell_type": "markdown",
   "id": "fd22cbfd",
   "metadata": {},
   "source": [
    "**The accuracy of the Random Forest model is above the baseline in both train and slightly above in validate.** "
   ]
  },
  {
   "cell_type": "markdown",
   "id": "438b27ee",
   "metadata": {},
   "source": [
    "## Evaluate models"
   ]
  },
  {
   "cell_type": "code",
   "execution_count": null,
   "id": "7bc1e9bb",
   "metadata": {
    "scrolled": true
   },
   "outputs": [],
   "source": [
    "# create dataframe\n",
    "evaluate_df = m.make_stats_df()\n",
    "# get evaluation\n",
    "m.final_eval(DecisionTree_Train, DecisionTree_Validate, RandomForest_Train, RandomForest_Validate, KNN_Train, KNN_Validate, evaluate_df)\n"
   ]
  },
  {
   "cell_type": "markdown",
   "id": "c07aaeb2",
   "metadata": {},
   "source": [
    "# Modeling Summary"
   ]
  },
  {
   "cell_type": "markdown",
   "id": "2c122a48",
   "metadata": {},
   "source": [
    "#### Baseline Score is 45% (0.45)\n",
    "* The DecisionTree Model out-performed other models on train and validate data sets \n",
    "    * .704762\n",
    "    * .637363\n",
    "    \n",
    "* The KNN Model came in dead last only slightly out-performing the baseline score\n",
    "    * .580952\n",
    "    * .461538\n",
    "    \n",
    "* The ideal model is expected to have out-performed the baseline score & have the highest accuracy score in comparison to other models.\n",
    "    * For this reason DecisionTree model will now be fit to the test data set "
   ]
  },
  {
   "cell_type": "markdown",
   "id": "337e98f9",
   "metadata": {},
   "source": [
    "# Top Model on Test data"
   ]
  },
  {
   "cell_type": "code",
   "execution_count": null,
   "id": "08c630c9",
   "metadata": {
    "scrolled": true
   },
   "outputs": [],
   "source": [
    "m.get_test(X_train, y_train, X_validate, y_validate, X_test, y_test,cv)"
   ]
  },
  {
   "cell_type": "markdown",
   "id": "3439ca6a",
   "metadata": {},
   "source": [
    "### Conclusions\n",
    "* Decision Tree model Accuracy scores:\n",
    "    \n",
    "        * 0.704762 on training data samples\n",
    "        * 0.637363 on validate data samples\n",
    "        * 0.671052 on test data samples\n",
    "        \n",
    "#### Key TakeAway:\n",
    "    Decision Tree model was successful on all train, validate and test data sets. \n",
    "\n"
   ]
  },
  {
   "cell_type": "markdown",
   "id": "14228d48",
   "metadata": {},
   "source": [
    "## Next Steps"
   ]
  },
  {
   "cell_type": "markdown",
   "id": "8550784b",
   "metadata": {},
   "source": [
    "   * Consider aquiring larger \"text\" datasets\n",
    "   * Consider hyperparameter tunning\n",
    "   * Consider gradient boosting algorithims"
   ]
  }
 ],
 "metadata": {
  "kernelspec": {
   "display_name": "Python 3 (ipykernel)",
   "language": "python",
   "name": "python3"
  },
  "language_info": {
   "codemirror_mode": {
    "name": "ipython",
    "version": 3
   },
   "file_extension": ".py",
   "mimetype": "text/x-python",
   "name": "python",
   "nbconvert_exporter": "python",
   "pygments_lexer": "ipython3",
   "version": "3.9.12"
  }
 },
 "nbformat": 4,
 "nbformat_minor": 5
}
