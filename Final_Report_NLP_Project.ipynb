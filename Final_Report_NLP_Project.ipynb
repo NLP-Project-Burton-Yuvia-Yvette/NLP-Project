{
 "cells": [
  {
   "cell_type": "markdown",
   "id": "11bba3ec",
   "metadata": {},
   "source": [
    " # Final Report NLP Project"
   ]
  },
  {
   "cell_type": "markdown",
   "id": "f5679a2f",
   "metadata": {},
   "source": [
    "<div class=\"alert alert-info\">\n",
    "\n",
    "# Executive Summary:\n",
    "### Goals\n",
    "\n",
    "Use natural languare processing methods to predict the primary language of a the most starred repository from GitHub using the repositories ReadMe\n",
    "\n",
    "### Key Findings\n",
    "\n",
    "* ...\n",
    "\n",
    "* ...\n",
    "\n",
    "* ...\n",
    "\n",
    "\n",
    "\n",
    "### Recommendation\n",
    "    \n",
    "* ...\n",
    "    \n",
    "* ...\n",
    "    \n",
    "* ...\n",
    "    \n"
   ]
  },
  {
   "cell_type": "markdown",
   "id": "b148b892",
   "metadata": {},
   "source": [
    "# **Goals:**"
   ]
  },
  {
   "cell_type": "markdown",
   "id": "2c9b3b01",
   "metadata": {},
   "source": [
    "* Use natural languare processing methods to predict the primary language of a repository from GitHub using the repositories ReadMe\n",
    "\n",
    "* ..."
   ]
  },
  {
   "cell_type": "markdown",
   "id": "eaeb77fb",
   "metadata": {},
   "source": [
    "## Imports"
   ]
  },
  {
   "cell_type": "code",
   "execution_count": 18,
   "id": "f6e1acc7",
   "metadata": {},
   "outputs": [],
   "source": [
    "import pandas as pd\n",
    "import numpy as np\n",
    "\n",
    "\n",
    "import prepare as p\n",
    "import acquire as a\n",
    "import explore as e\n",
    "import model as m\n",
    "randomseed = 123\n",
    "\n",
    "import warnings\n",
    "warnings.filterwarnings(\"ignore\")\n"
   ]
  },
  {
   "cell_type": "markdown",
   "id": "d47e63fd",
   "metadata": {},
   "source": [
    "# Acquire:"
   ]
  },
  {
   "cell_type": "markdown",
   "id": "e5689311",
   "metadata": {},
   "source": [
    "We used the function under acquire.py to webscrapes Read me sites from githubs most starred repositories. We sucessfuly obtained 1000 urls. This was saved into a local csv file 'urls_final.csv' for ease of use.\n",
    "\n",
    "We used to urls to scrape the 1000 individual most starred repositories Readmes for Readme text and primary languaged used. This was also saved into a local file csv 'readme_df.csv' for ease of use."
   ]
  },
  {
   "cell_type": "markdown",
   "id": "83311917",
   "metadata": {},
   "source": [
    "* Data acquire through webscraping methods from GitHub on January 11, 2023 at 10pm\n",
    "\n",
    "* The data contains 1000 rows and 3 columns before cleaning\n",
    "\n",
    "* Each row represents a link to a Githubs ReadMe repository that is most starred\n",
    "\n",
    "* Each column represents a feature from one Githubs ReadMe repository\n",
    "\n",
    "* Data was saved into readme_df.csv file for project"
   ]
  },
  {
   "cell_type": "code",
   "execution_count": 2,
   "id": "5f4a18a2",
   "metadata": {},
   "outputs": [],
   "source": [
    "# acquire readme data\n",
    "df = pd.read_csv('readme_df.csv')"
   ]
  },
  {
   "cell_type": "markdown",
   "id": "8c32a11e",
   "metadata": {},
   "source": [
    "# Prepare:"
   ]
  },
  {
   "cell_type": "markdown",
   "id": "b60a8201",
   "metadata": {},
   "source": [
    "prepare actions:"
   ]
  },
  {
   "cell_type": "markdown",
   "id": "0bc58cd6",
   "metadata": {},
   "source": [
    "* Removed rows that were duplicates \n",
    "* All Null values where removed \n",
    "* Outliers where not observed\n",
    "* Removed unccesary rows:\n",
    "    * Only the top 4 languages where Kept the rest where dropped\n",
    "    * this left us with a total of 377 observations   \n",
    "* Split data into train, validate and test \n",
    "    * Approximately: train 56%, validate 24%, test 20%\n",
    "    * Stratified on 'language'\n",
    "    \n",
    "* We ended up with 377 usable observations in our dataframe\n"
   ]
  },
  {
   "cell_type": "markdown",
   "id": "f11fbd93",
   "metadata": {},
   "source": [
    "###                                                        <h1><center>Data Dictionary</center></h1>     \n",
    "| Feature | Definition |\n",
    "| :- | :- |\n",
    "| repo |url link for githubs most starred repositories|\n",
    "| language | Primary language of Repository|\n",
    "| readme_content| Text found inside the readme |\n"
   ]
  },
  {
   "cell_type": "code",
   "execution_count": 7,
   "id": "55ead39e",
   "metadata": {},
   "outputs": [],
   "source": [
    "# cleaning data\n",
    "df = p.data_prep(df)\n",
    "\n",
    "# prepare text for exploration \n",
    "df = p.text_prep(df)\n",
    "\n",
    "\n",
    "# split data: train, validate and test\n",
    "train, validate, test = p.split_data(df, 'language')"
   ]
  },
  {
   "cell_type": "markdown",
   "id": "03e989b5",
   "metadata": {},
   "source": [
    "# Explore:"
   ]
  },
  {
   "cell_type": "markdown",
   "id": "9879e4e5",
   "metadata": {},
   "source": [
    "## What language is most commonly used in our dataset?"
   ]
  },
  {
   "cell_type": "code",
   "execution_count": null,
   "id": "c94dbc72",
   "metadata": {
    "scrolled": false
   },
   "outputs": [],
   "source": [
    "#obtain viz\n",
    "e.get_..."
   ]
  },
  {
   "cell_type": "markdown",
   "id": "93087f71",
   "metadata": {},
   "source": [
    " * **It appears abcdef.**"
   ]
  },
  {
   "cell_type": "markdown",
   "id": "12fdac35",
   "metadata": {},
   "source": [
    "## What is the average word count for each language?"
   ]
  },
  {
   "cell_type": "code",
   "execution_count": null,
   "id": "b23241a5",
   "metadata": {
    "scrolled": true
   },
   "outputs": [],
   "source": [
    "# Obtain viz\n",
    "e.get_..."
   ]
  },
  {
   "cell_type": "markdown",
   "id": "3a3cdb5e",
   "metadata": {},
   "source": [
    "* **The mean abcdef.** "
   ]
  },
  {
   "cell_type": "markdown",
   "id": "1a7aba1a",
   "metadata": {},
   "source": [
    "**I will now conduct a T-test to test for a significant difference between the mean of ....**\n",
    "\n",
    "* The confidence interval is 95%\n",
    "* Alpha is set to 0.05 \n",
    "* p/2 will be compared to alpha\n",
    "\n",
    "$H_0$: abcdfe.. == abcdfe..\n",
    "\n",
    "$H_a$: abcdfe. != abcdfe.."
   ]
  },
  {
   "cell_type": "code",
   "execution_count": null,
   "id": "7b0a2555",
   "metadata": {
    "scrolled": true
   },
   "outputs": [],
   "source": [
    "# Stats T-Test result\n",
    "e.get_ttest_..."
   ]
  },
  {
   "cell_type": "markdown",
   "id": "05932cdf",
   "metadata": {},
   "source": [
    "The p-value/2 is .... **There is  evidence to support that ....** Based on this statistical finding I believe ....\n"
   ]
  },
  {
   "cell_type": "markdown",
   "id": "f0a86d4a",
   "metadata": {},
   "source": [
    "## Is there a difference in sentiment by language?"
   ]
  },
  {
   "cell_type": "code",
   "execution_count": null,
   "id": "26b069a5",
   "metadata": {
    "scrolled": true
   },
   "outputs": [],
   "source": [
    "# Obtain viz\n",
    "e.get_..."
   ]
  },
  {
   "cell_type": "markdown",
   "id": "1fb64347",
   "metadata": {},
   "source": [
    "* **We can see ....**"
   ]
  },
  {
   "cell_type": "markdown",
   "id": "99bf7852",
   "metadata": {},
   "source": [
    "**I will now conduct a T-test to test for a significant difference between the mean of ....**\n",
    "\n",
    "* The confidence interval is 95%\n",
    "* Alpha is set to 0.05 \n",
    "* p/2 will be compared to alpha\n",
    "\n",
    "$H_0$: abcdfe.. == abcdfe..\n",
    "\n",
    "$H_a$: abcdfe. != abcdfe.."
   ]
  },
  {
   "cell_type": "code",
   "execution_count": null,
   "id": "b7267d9a",
   "metadata": {
    "scrolled": true
   },
   "outputs": [],
   "source": [
    "# Stats T-Test result\n",
    "e.get_ttest_..."
   ]
  },
  {
   "cell_type": "markdown",
   "id": "b429377f",
   "metadata": {},
   "source": [
    "The p-value/2 is .... **There is  evidence to support that ....** Based on this statistical finding I believe ....\n"
   ]
  },
  {
   "cell_type": "markdown",
   "id": "8ad2a4c9",
   "metadata": {},
   "source": [
    "## Top 10 words used across the board?"
   ]
  },
  {
   "cell_type": "code",
   "execution_count": null,
   "id": "b42a55ac",
   "metadata": {
    "scrolled": true
   },
   "outputs": [],
   "source": [
    "# Obtain viz\n",
    "e.get_..."
   ]
  },
  {
   "cell_type": "markdown",
   "id": "e8c42d7e",
   "metadata": {},
   "source": [
    "* **We can see that...**"
   ]
  },
  {
   "cell_type": "markdown",
   "id": "f40b6040",
   "metadata": {},
   "source": [
    "##  Proportion of Python vs JavaScript for the 20 most common words"
   ]
  },
  {
   "cell_type": "code",
   "execution_count": null,
   "id": "9a687cea",
   "metadata": {
    "scrolled": true
   },
   "outputs": [],
   "source": [
    "# Obtain Viz\n",
    "e.get_..."
   ]
  },
  {
   "cell_type": "markdown",
   "id": "c67dc437",
   "metadata": {},
   "source": [
    "* **It seems that ...**"
   ]
  },
  {
   "cell_type": "markdown",
   "id": "26cf291f",
   "metadata": {},
   "source": [
    "## 20 Most frequently occuring JavaScript bigrams VS Python bigrams"
   ]
  },
  {
   "cell_type": "code",
   "execution_count": null,
   "id": "a67e8f49",
   "metadata": {
    "scrolled": true
   },
   "outputs": [],
   "source": [
    "# Obtain Viz\n",
    "e.get_..."
   ]
  },
  {
   "cell_type": "markdown",
   "id": "6ab20c11",
   "metadata": {},
   "source": [
    "* **It seems that ...**"
   ]
  },
  {
   "cell_type": "markdown",
   "id": "0babf409",
   "metadata": {},
   "source": [
    "# Exploration Summary"
   ]
  },
  {
   "cell_type": "markdown",
   "id": "f0f0c472",
   "metadata": {},
   "source": [
    "* a\n",
    "* b\n",
    "* c\n"
   ]
  },
  {
   "cell_type": "markdown",
   "id": "b91df37d",
   "metadata": {},
   "source": [
    "# Features that will be included in my model"
   ]
  },
  {
   "cell_type": "markdown",
   "id": "014f864c",
   "metadata": {},
   "source": [
    "* **a**  has a ...\n",
    "* **b**  has a ...\n",
    "* **c**  has a ...\n"
   ]
  },
  {
   "cell_type": "markdown",
   "id": "293fa781",
   "metadata": {},
   "source": [
    "# Features that will be not included in my model"
   ]
  },
  {
   "cell_type": "markdown",
   "id": "d20728ae",
   "metadata": {},
   "source": [
    "* **a** did not have...\n",
    "* **Ob** have unknow ...\n"
   ]
  },
  {
   "cell_type": "markdown",
   "id": "84774416",
   "metadata": {},
   "source": [
    "# Modeling:"
   ]
  },
  {
   "cell_type": "markdown",
   "id": "d9914f0a",
   "metadata": {},
   "source": [
    "* Accuracy is the metric use in the models.\n",
    "    * Accuracy helps gauge the percentage of correct predictions\n",
    "\n",
    "* Baseline will be 45 % accuracy:\n",
    "    * Since the biggest language in our data set is JavaScript\n",
    "    * And JavaScript makes up 45% of the data \n",
    "    * by guessing the primary language is JavaScript we will be correct 45% of the time\n",
    "    \n",
    "* I will evaluate my top model of Decision Tree, KNN, and Logistic Regression on train and validate data\n",
    "* The model that performs the best will then be evaluated on test data"
   ]
  },
  {
   "cell_type": "code",
   "execution_count": 10,
   "id": "b829e4f6",
   "metadata": {},
   "outputs": [
    {
     "data": {
      "text/html": [
       "<div>\n",
       "<style scoped>\n",
       "    .dataframe tbody tr th:only-of-type {\n",
       "        vertical-align: middle;\n",
       "    }\n",
       "\n",
       "    .dataframe tbody tr th {\n",
       "        vertical-align: top;\n",
       "    }\n",
       "\n",
       "    .dataframe thead th {\n",
       "        text-align: right;\n",
       "    }\n",
       "</style>\n",
       "<table border=\"1\" class=\"dataframe\">\n",
       "  <thead>\n",
       "    <tr style=\"text-align: right;\">\n",
       "      <th></th>\n",
       "      <th>repo</th>\n",
       "      <th>language</th>\n",
       "      <th>readme_contents</th>\n",
       "      <th>clean_text</th>\n",
       "    </tr>\n",
       "  </thead>\n",
       "  <tbody>\n",
       "    <tr>\n",
       "      <th>0</th>\n",
       "      <td>freeCodeCamp/freeCodeCamp</td>\n",
       "      <td>TypeScript</td>\n",
       "      <td>[![freeCodeCamp Social Banner](https://s3.amaz...</td>\n",
       "      <td>freecodecamp social bannerhttpss3amazonawscomf...</td>\n",
       "    </tr>\n",
       "    <tr>\n",
       "      <th>1</th>\n",
       "      <td>microsoft/vscode</td>\n",
       "      <td>TypeScript</td>\n",
       "      <td># Visual Studio Code - Open Source (\"Code - OS...</td>\n",
       "      <td>visual studio code open source code os feature...</td>\n",
       "    </tr>\n",
       "    <tr>\n",
       "      <th>2</th>\n",
       "      <td>axios/axios</td>\n",
       "      <td>JavaScript</td>\n",
       "      <td>&lt;h1 align=\"center\"&gt;\\n   &lt;b&gt;\\n        &lt;a href=\"...</td>\n",
       "      <td>h1 aligncenter b hrefhttpsaxioshttpcomimg srch...</td>\n",
       "    </tr>\n",
       "    <tr>\n",
       "      <th>3</th>\n",
       "      <td>microsoft/TypeScript</td>\n",
       "      <td>TypeScript</td>\n",
       "      <td>\\r\\n# TypeScript\\r\\n\\r\\n[![GitHub Actions CI](...</td>\n",
       "      <td>typescript github action cihttpsgithubcommicro...</td>\n",
       "    </tr>\n",
       "    <tr>\n",
       "      <th>4</th>\n",
       "      <td>tensorflow/models</td>\n",
       "      <td>Python</td>\n",
       "      <td>&lt;div align=\"center\"&gt;\\n  &lt;img src=\"https://stor...</td>\n",
       "      <td>div aligncenter img srchttpsstoragegoogleapisc...</td>\n",
       "    </tr>\n",
       "    <tr>\n",
       "      <th>...</th>\n",
       "      <td>...</td>\n",
       "      <td>...</td>\n",
       "      <td>...</td>\n",
       "      <td>...</td>\n",
       "    </tr>\n",
       "    <tr>\n",
       "      <th>372</th>\n",
       "      <td>jquery-form/form</td>\n",
       "      <td>JavaScript</td>\n",
       "      <td># jQuery Form [![Build Status](https://travis-...</td>\n",
       "      <td>jquery form build statushttpstravisciorgjquery...</td>\n",
       "    </tr>\n",
       "    <tr>\n",
       "      <th>373</th>\n",
       "      <td>Mailtrain-org/mailtrain</td>\n",
       "      <td>JavaScript</td>\n",
       "      <td># Mailtrain v2\\n\\nMailtrain is a self hosted n...</td>\n",
       "      <td>mailtrain v2 mailtrain self hosted newsletter ...</td>\n",
       "    </tr>\n",
       "    <tr>\n",
       "      <th>374</th>\n",
       "      <td>google/error-prone</td>\n",
       "      <td>Java</td>\n",
       "      <td># Error Prone\\n\\nError Prone is a static analy...</td>\n",
       "      <td>error prone error prone static analysis tool j...</td>\n",
       "    </tr>\n",
       "    <tr>\n",
       "      <th>375</th>\n",
       "      <td>pentaho/pentaho-kettle</td>\n",
       "      <td>Java</td>\n",
       "      <td># Pentaho Data Integration # \\n\\nPentaho Data ...</td>\n",
       "      <td>pentaho data integration pentaho data integrat...</td>\n",
       "    </tr>\n",
       "    <tr>\n",
       "      <th>376</th>\n",
       "      <td>leeoniya/uPlot</td>\n",
       "      <td>JavaScript</td>\n",
       "      <td>## 📈 μPlot\\n\\nA small ([~40 KB min](https://gi...</td>\n",
       "      <td>plot small 40 kb minhttpsgithubcomleeoniyauplo...</td>\n",
       "    </tr>\n",
       "  </tbody>\n",
       "</table>\n",
       "<p>377 rows × 4 columns</p>\n",
       "</div>"
      ],
      "text/plain": [
       "                          repo    language  \\\n",
       "0    freeCodeCamp/freeCodeCamp  TypeScript   \n",
       "1             microsoft/vscode  TypeScript   \n",
       "2                  axios/axios  JavaScript   \n",
       "3         microsoft/TypeScript  TypeScript   \n",
       "4            tensorflow/models      Python   \n",
       "..                         ...         ...   \n",
       "372           jquery-form/form  JavaScript   \n",
       "373    Mailtrain-org/mailtrain  JavaScript   \n",
       "374         google/error-prone        Java   \n",
       "375     pentaho/pentaho-kettle        Java   \n",
       "376             leeoniya/uPlot  JavaScript   \n",
       "\n",
       "                                       readme_contents  \\\n",
       "0    [![freeCodeCamp Social Banner](https://s3.amaz...   \n",
       "1    # Visual Studio Code - Open Source (\"Code - OS...   \n",
       "2    <h1 align=\"center\">\\n   <b>\\n        <a href=\"...   \n",
       "3    \\r\\n# TypeScript\\r\\n\\r\\n[![GitHub Actions CI](...   \n",
       "4    <div align=\"center\">\\n  <img src=\"https://stor...   \n",
       "..                                                 ...   \n",
       "372  # jQuery Form [![Build Status](https://travis-...   \n",
       "373  # Mailtrain v2\\n\\nMailtrain is a self hosted n...   \n",
       "374  # Error Prone\\n\\nError Prone is a static analy...   \n",
       "375  # Pentaho Data Integration # \\n\\nPentaho Data ...   \n",
       "376  ## 📈 μPlot\\n\\nA small ([~40 KB min](https://gi...   \n",
       "\n",
       "                                            clean_text  \n",
       "0    freecodecamp social bannerhttpss3amazonawscomf...  \n",
       "1    visual studio code open source code os feature...  \n",
       "2    h1 aligncenter b hrefhttpsaxioshttpcomimg srch...  \n",
       "3    typescript github action cihttpsgithubcommicro...  \n",
       "4    div aligncenter img srchttpsstoragegoogleapisc...  \n",
       "..                                                 ...  \n",
       "372  jquery form build statushttpstravisciorgjquery...  \n",
       "373  mailtrain v2 mailtrain self hosted newsletter ...  \n",
       "374  error prone error prone static analysis tool j...  \n",
       "375  pentaho data integration pentaho data integrat...  \n",
       "376  plot small 40 kb minhttpsgithubcomleeoniyauplo...  \n",
       "\n",
       "[377 rows x 4 columns]"
      ]
     },
     "execution_count": 10,
     "metadata": {},
     "output_type": "execute_result"
    }
   ],
   "source": [
    "df"
   ]
  },
  {
   "cell_type": "code",
   "execution_count": 19,
   "id": "9c9514fe",
   "metadata": {},
   "outputs": [],
   "source": [
    "# prep data for modeling\n",
    "X_train,y_train,X_validate,y_validate, X_test, y_test= m. model_prep(train,validate,test)"
   ]
  },
  {
   "cell_type": "code",
   "execution_count": 20,
   "id": "42e5bfd6",
   "metadata": {},
   "outputs": [
    {
     "data": {
      "text/plain": [
       "147    pure purehttpscloudgithubusercontentcomassets4...\n",
       "80     fis3 demo fis3 fis3 uselessuseless le usesassu...\n",
       "320    accountingjs tiny javascript library number mo...\n",
       "66     api nodejs api service p hrefhttpswwwnpmjscomp...\n",
       "150    ngxadmin img srchttpsiimgurcomomcxwz0png altev...\n",
       "                             ...                        \n",
       "372    jquery form build statushttpstravisciorgjquery...\n",
       "125    img srcassetsjtbpheaderbluepng width1920px br ...\n",
       "117    angularjs wrapper sweetalert angularjs wrapper...\n",
       "124    zombiejs insanely fast headless fullstack test...\n",
       "263    remarklogo buildbuildbadgebuild coveragecovera...\n",
       "Name: clean_text, Length: 210, dtype: object"
      ]
     },
     "execution_count": 20,
     "metadata": {},
     "output_type": "execute_result"
    }
   ],
   "source": [
    "X_train"
   ]
  },
  {
   "cell_type": "markdown",
   "id": "5ee628c6",
   "metadata": {},
   "source": [
    "## Decision Tree"
   ]
  },
  {
   "cell_type": "code",
   "execution_count": null,
   "id": "5983266b",
   "metadata": {
    "scrolled": true
   },
   "outputs": [],
   "source": [
    "# Get Decision Tree results\n",
    "m.get_tree_model(x_train,y_train,x_validate,y_validate)"
   ]
  },
  {
   "cell_type": "markdown",
   "id": "c6098a3d",
   "metadata": {},
   "source": [
    "**The accuracy of the Decision Tree model is above the baseline in both train and validate.** "
   ]
  },
  {
   "cell_type": "markdown",
   "id": "c3148e4a",
   "metadata": {},
   "source": [
    "## KNN"
   ]
  },
  {
   "cell_type": "code",
   "execution_count": null,
   "id": "e748bc35",
   "metadata": {},
   "outputs": [],
   "source": [
    "# Get KNN model results\n",
    "m.get_knn_model(x_train,y_train,x_validate,y_validate)"
   ]
  },
  {
   "cell_type": "markdown",
   "id": "7d706d99",
   "metadata": {},
   "source": [
    "**The accuracy of the KNN is above the baseline in both train and validate.** "
   ]
  },
  {
   "cell_type": "markdown",
   "id": "b804b6f0",
   "metadata": {},
   "source": [
    "## Logistic Regression"
   ]
  },
  {
   "cell_type": "code",
   "execution_count": null,
   "id": "8b505463",
   "metadata": {
    "scrolled": true
   },
   "outputs": [],
   "source": [
    "# Get Logic Regression model results\n",
    "m.get_logit_model(x_train,y_train,x_validate,y_validate)"
   ]
  },
  {
   "cell_type": "markdown",
   "id": "fd22cbfd",
   "metadata": {},
   "source": [
    "**The accuracy of the Logistic Regression model is above the baseline in both train and validate.** "
   ]
  },
  {
   "cell_type": "markdown",
   "id": "c07aaeb2",
   "metadata": {},
   "source": [
    "# Comparing Models"
   ]
  },
  {
   "cell_type": "markdown",
   "id": "d6e42405",
   "metadata": {},
   "source": [
    "* ...\n",
    "* ...\n",
    "* ..."
   ]
  },
  {
   "cell_type": "markdown",
   "id": "337e98f9",
   "metadata": {},
   "source": [
    "# Top Model on Test data"
   ]
  },
  {
   "cell_type": "code",
   "execution_count": null,
   "id": "08c630c9",
   "metadata": {},
   "outputs": [],
   "source": [
    "m.get_...(x_train,y_train,x_test,y_test, True)"
   ]
  },
  {
   "cell_type": "markdown",
   "id": "7a3f2e74",
   "metadata": {},
   "source": [
    "## Modeling Summary"
   ]
  },
  {
   "cell_type": "markdown",
   "id": "c40cc762",
   "metadata": {},
   "source": [
    "* model abc...\n",
    "\n",
    "* model abc..."
   ]
  },
  {
   "cell_type": "markdown",
   "id": "f896f6c0",
   "metadata": {},
   "source": [
    "# Conclusion"
   ]
  },
  {
   "cell_type": "markdown",
   "id": "fcbf80fc",
   "metadata": {},
   "source": [
    "## Exploration\n",
    "\n"
   ]
  },
  {
   "cell_type": "markdown",
   "id": "8fbf3a1f",
   "metadata": {},
   "source": [
    "* ..\n",
    "* a\n",
    "* b"
   ]
  },
  {
   "cell_type": "markdown",
   "id": "058105b7",
   "metadata": {},
   "source": [
    "## Modeling"
   ]
  },
  {
   "cell_type": "markdown",
   "id": "ed93530a",
   "metadata": {},
   "source": [
    "**The final model performed ....**"
   ]
  },
  {
   "cell_type": "markdown",
   "id": "c1a19a11",
   "metadata": {},
   "source": [
    "## Recommendations"
   ]
  },
  {
   "cell_type": "markdown",
   "id": "7030b4ae",
   "metadata": {},
   "source": [
    "* a\n",
    "* b\n",
    "* c"
   ]
  },
  {
   "cell_type": "markdown",
   "id": "14228d48",
   "metadata": {},
   "source": [
    "## Next Steps"
   ]
  },
  {
   "cell_type": "markdown",
   "id": "8550784b",
   "metadata": {},
   "source": [
    "* a\n",
    "* b\n",
    "* c"
   ]
  }
 ],
 "metadata": {
  "kernelspec": {
   "display_name": "Python 3 (ipykernel)",
   "language": "python",
   "name": "python3"
  },
  "language_info": {
   "codemirror_mode": {
    "name": "ipython",
    "version": 3
   },
   "file_extension": ".py",
   "mimetype": "text/x-python",
   "name": "python",
   "nbconvert_exporter": "python",
   "pygments_lexer": "ipython3",
   "version": "3.9.12"
  }
 },
 "nbformat": 4,
 "nbformat_minor": 5
}
