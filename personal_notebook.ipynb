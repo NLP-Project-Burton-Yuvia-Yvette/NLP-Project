{
 "cells": [
  {
   "cell_type": "code",
   "execution_count": 42,
   "id": "2493696d",
   "metadata": {},
   "outputs": [],
   "source": [
    "from bs4 import BeautifulSoup\n",
    "import requests\n",
    "import re\n",
    "import pandas as pd\n",
    "import time\n",
    "import os\n",
    "import numpy as np\n",
    "import matplotlib.pyplot as plt\n",
    "import json\n",
    "from typing import Dict, List, Optional, Union, cast\n",
    "import requests\n",
    "from env import github_token, github_username\n",
    "import unicodedata\n",
    "import nltk\n",
    "import prepare as p\n",
    "from nltk.tokenize.toktok import ToktokTokenizer\n",
    "from nltk.corpus import stopwords\n",
    "from sklearn.model_selection import train_test_split\n",
    "from scipy import stats"
   ]
  },
  {
   "cell_type": "code",
   "execution_count": 3,
   "id": "03571804",
   "metadata": {},
   "outputs": [
    {
     "name": "stdout",
     "output_type": "stream",
     "text": [
      "/go-xorm/xorm\n",
      "/gss/engine\n",
      "/kandanapp/kandan\n",
      "/aanand/git-up\n",
      "/Naoki2015/CircleDemo\n",
      "/wavded/humane-js\n",
      "/soulwire/fit.js\n",
      "/Haneke/Haneke\n",
      "/dchelimsky/rspec\n",
      "/Trinea/android-auto-scroll-view-pager\n"
     ]
    }
   ],
   "source": [
    "url = \"https://github.com/search?3&q=stars%3A%3E0&s=stars&type=Repositories\"\n",
    "reqs = requests.get(url)\n",
    "soup = BeautifulSoup(reqs.text, 'html.parser')\n",
    "urls = []\n",
    "for link in soup.find_all('a',class_=\"v-align-middle\"):\n",
    "    print(link.get('href'))"
   ]
  },
  {
   "cell_type": "code",
   "execution_count": 4,
   "id": "cad61d03",
   "metadata": {},
   "outputs": [],
   "source": [
    "url = \"https://github.com/search?3&q=stars%3A%3E0&s=stars&type=Repositories\"\n",
    "reqs = requests.get(url)\n",
    "soup = BeautifulSoup(reqs.text, 'html.parser')\n",
    "urls = []\n",
    "for link in soup.find_all('a',class_=\"v-align-middle\"):\n",
    "    urls.append(link.get('href'))"
   ]
  },
  {
   "cell_type": "code",
   "execution_count": 5,
   "id": "81959598",
   "metadata": {},
   "outputs": [
    {
     "ename": "NameError",
     "evalue": "name 'urls_repo' is not defined",
     "output_type": "error",
     "traceback": [
      "\u001b[0;31m---------------------------------------------------------------------------\u001b[0m",
      "\u001b[0;31mNameError\u001b[0m                                 Traceback (most recent call last)",
      "Input \u001b[0;32mIn [5]\u001b[0m, in \u001b[0;36m<cell line: 1>\u001b[0;34m()\u001b[0m\n\u001b[0;32m----> 1\u001b[0m REPOS \u001b[38;5;241m=\u001b[39m \u001b[43murls_repo\u001b[49m[\u001b[38;5;124m'\u001b[39m\u001b[38;5;124m0\u001b[39m\u001b[38;5;124m'\u001b[39m]\n\u001b[1;32m      3\u001b[0m headers \u001b[38;5;241m=\u001b[39m {\u001b[38;5;124m\"\u001b[39m\u001b[38;5;124mAuthorization\u001b[39m\u001b[38;5;124m\"\u001b[39m: \u001b[38;5;124mf\u001b[39m\u001b[38;5;124m\"\u001b[39m\u001b[38;5;124mtoken \u001b[39m\u001b[38;5;132;01m{\u001b[39;00mgithub_token\u001b[38;5;132;01m}\u001b[39;00m\u001b[38;5;124m\"\u001b[39m, \u001b[38;5;124m\"\u001b[39m\u001b[38;5;124mUser-Agent\u001b[39m\u001b[38;5;124m\"\u001b[39m: github_username}\n\u001b[1;32m      5\u001b[0m \u001b[38;5;28;01mif\u001b[39;00m headers[\u001b[38;5;124m\"\u001b[39m\u001b[38;5;124mAuthorization\u001b[39m\u001b[38;5;124m\"\u001b[39m] \u001b[38;5;241m==\u001b[39m \u001b[38;5;124m\"\u001b[39m\u001b[38;5;124mtoken \u001b[39m\u001b[38;5;124m\"\u001b[39m \u001b[38;5;129;01mor\u001b[39;00m headers[\u001b[38;5;124m\"\u001b[39m\u001b[38;5;124mUser-Agent\u001b[39m\u001b[38;5;124m\"\u001b[39m] \u001b[38;5;241m==\u001b[39m \u001b[38;5;124m\"\u001b[39m\u001b[38;5;124m\"\u001b[39m:\n",
      "\u001b[0;31mNameError\u001b[0m: name 'urls_repo' is not defined"
     ]
    }
   ],
   "source": [
    "REPOS = urls_repo['0']\n",
    "\n",
    "headers = {\"Authorization\": f\"token {github_token}\", \"User-Agent\": github_username}\n",
    "\n",
    "if headers[\"Authorization\"] == \"token \" or headers[\"User-Agent\"] == \"\":\n",
    "    raise Exception(\n",
    "        \"You need to follow the instructions marked TODO in this script before trying to use it\"\n",
    "    )\n",
    "\n",
    "\n",
    "def github_api_request(url: str) -> Union[List, Dict]:\n",
    "    response = requests.get(url, headers=headers)\n",
    "    response_data = response.json()\n",
    "    if response.status_code != 200:\n",
    "        raise Exception(\n",
    "            f\"Error response from github api! status code: {response.status_code}, \"\n",
    "            f\"response: {json.dumps(response_data)}\"\n",
    "        )\n",
    "    return response_data\n",
    "\n",
    "\n",
    "def get_repo_language(repo: str) -> str:\n",
    "    url = f\"https://api.github.com/repos/{repo}\"\n",
    "    repo_info = github_api_request(url)\n",
    "    if type(repo_info) is dict:\n",
    "        repo_info = cast(Dict, repo_info)\n",
    "        if \"language\" not in repo_info:\n",
    "            raise Exception(\n",
    "                \"'language' key not round in response\\n{}\".format(json.dumps(repo_info))\n",
    "            )\n",
    "        return repo_info[\"language\"]\n",
    "    raise Exception(\n",
    "        f\"Expecting a dictionary response from {url}, instead got {json.dumps(repo_info)}\"\n",
    "    )\n",
    "    \n",
    "def get_repo_contents(repo: str) -> List[Dict[str, str]]:\n",
    "    url = f\"https://api.github.com/repos/{repo}/contents/\"\n",
    "    contents = github_api_request(url)\n",
    "    if type(contents) is list:\n",
    "        contents = cast(List, contents)\n",
    "        return contents\n",
    "    raise Exception(\n",
    "        f\"Expecting a list response from {url}, instead got {json.dumps(contents)}\"\n",
    "    )\n",
    "\n",
    "\n",
    "def get_readme_download_url(files: List[Dict[str, str]]) -> str:\n",
    "    \"\"\"\n",
    "    Takes in a response from the github api that lists the files in a repo and\n",
    "    returns the url that can be used to download the repo's README file.\n",
    "    \"\"\"\n",
    "    for file in files:\n",
    "        if file[\"name\"].lower().startswith(\"readme\"):\n",
    "            return file[\"download_url\"]\n",
    "    return \"\"\n",
    "\n",
    "\n",
    "def process_repo(repo: str) -> Dict[str, str]:\n",
    "    \"\"\"\n",
    "    Takes a repo name like \"gocodeup/codeup-setup-script\" and returns a\n",
    "    dictionary with the language of the repo and the readme contents.\n",
    "    \"\"\"\n",
    "    contents = get_repo_contents(repo)\n",
    "    readme_download_url = get_readme_download_url(contents)\n",
    "    if readme_download_url == \"\":\n",
    "        readme_contents = \"\"\n",
    "    else:\n",
    "        readme_contents = requests.get(readme_download_url).text\n",
    "    return {\n",
    "        \"repo\": repo,\n",
    "        \"language\": get_repo_language(repo),\n",
    "        \"readme_contents\": readme_contents,\n",
    "    }\n",
    "\n",
    "def scrape_github_data() -> List[Dict[str, str]]:\n",
    "    \"\"\"\n",
    "    Loop through all of the repos and process them. Returns the processed data.\n",
    "    \"\"\"\n",
    "    return [process_repo(repo) for repo in REPOS]\n",
    "\n",
    "\n",
    "if __name__ == \"__main__\":\n",
    "    data = scrape_github_data()\n",
    "    json.dump(data, open(\"data.json\", \"w\"), indent=1)"
   ]
  },
  {
   "cell_type": "code",
   "execution_count": 10,
   "id": "80f66482",
   "metadata": {},
   "outputs": [],
   "source": [
    "def basic_clean(string):\n",
    "    '''\n",
    "    This function takes in a string and\n",
    "    returns the string normalized.\n",
    "    '''\n",
    "    # we will normalize our data into standard NFKD unicode, feed it into an ascii encoding\n",
    "    # decode it back into UTF-8\n",
    "    string = unicodedata.normalize('NFKD', string)\\\n",
    "             .encode('ascii', 'ignore')\\\n",
    "             .decode('utf-8', 'ignore')\n",
    "    # utilize our regex substitution to remove our undesirable characters, then lowercase\n",
    "    string = re.sub(r\"[^\\w0-9'\\s]\", '', string).lower()\n",
    "    return string"
   ]
  },
  {
   "cell_type": "code",
   "execution_count": 13,
   "id": "15f56e65",
   "metadata": {},
   "outputs": [],
   "source": [
    "df = pd.read_csv('readme_df.csv')"
   ]
  },
  {
   "cell_type": "code",
   "execution_count": 14,
   "id": "ddf6703d",
   "metadata": {},
   "outputs": [],
   "source": [
    "df.dropna(inplace=True)"
   ]
  },
  {
   "cell_type": "code",
   "execution_count": 15,
   "id": "ed53ba57",
   "metadata": {},
   "outputs": [],
   "source": [
    "df = df[(df.language == 'Java') | (df.language=='JavaScript') | (df.language=='Python') | (df.language=='TypeScript')]"
   ]
  },
  {
   "cell_type": "code",
   "execution_count": 17,
   "id": "e54dc2fc",
   "metadata": {},
   "outputs": [],
   "source": [
    "df.reset_index(drop=True, inplace=True)"
   ]
  },
  {
   "cell_type": "code",
   "execution_count": 18,
   "id": "b2d6f5a1",
   "metadata": {},
   "outputs": [
    {
     "data": {
      "text/plain": [
       "JavaScript    169\n",
       "Python         88\n",
       "Java           62\n",
       "TypeScript     58\n",
       "Name: language, dtype: int64"
      ]
     },
     "execution_count": 18,
     "metadata": {},
     "output_type": "execute_result"
    }
   ],
   "source": [
    "df.language.value_counts()"
   ]
  },
  {
   "cell_type": "code",
   "execution_count": 19,
   "id": "5a91aadf",
   "metadata": {},
   "outputs": [],
   "source": [
    "df['clean_text']= df.readme_contents.apply(p.basic_clean)"
   ]
  },
  {
   "cell_type": "code",
   "execution_count": 20,
   "id": "2c9aeb8f",
   "metadata": {},
   "outputs": [],
   "source": [
    "df['clean_text']= df.clean_text.apply(p.tokenize)"
   ]
  },
  {
   "cell_type": "code",
   "execution_count": 21,
   "id": "3096d09a",
   "metadata": {},
   "outputs": [],
   "source": [
    "df['clean_text']= df.clean_text.apply(p.lemmatize)"
   ]
  },
  {
   "cell_type": "code",
   "execution_count": 22,
   "id": "d172d505",
   "metadata": {},
   "outputs": [],
   "source": [
    "df['clean_text']= df.clean_text.apply(p.remove_stopwords)"
   ]
  },
  {
   "cell_type": "code",
   "execution_count": 23,
   "id": "29995f19",
   "metadata": {},
   "outputs": [],
   "source": [
    "def split_data(df, target):\n",
    "    '''\n",
    "    split_date takes in a dataframe  and target variable and splits into train , validate, test\n",
    "    and stratifies on target variable\n",
    "    The split is 20% test 80% train/validate. Then 30% of 80% validate and 70% of 80% train.\n",
    "    Aproximately (train 56%, validate 24%, test 20%)\n",
    "    returns train, validate, and test\n",
    "    '''\n",
    "    # split test data from train/validate\n",
    "    train_validate, test = train_test_split(df, test_size=.2,\n",
    "                                        random_state=123,\n",
    "                                        stratify=df[target])\n",
    "    # split train from validate\n",
    "    train, validate = train_test_split(train_validate, test_size=.3,\n",
    "                                   random_state=123,\n",
    "                                   stratify=train_validate[target])\n",
    "    return train, validate, test"
   ]
  },
  {
   "cell_type": "code",
   "execution_count": 24,
   "id": "bc681c9a",
   "metadata": {},
   "outputs": [],
   "source": [
    "train, validate, test = split_data(df, 'language')"
   ]
  },
  {
   "cell_type": "code",
   "execution_count": 25,
   "id": "930782d9",
   "metadata": {},
   "outputs": [],
   "source": [
    "# which language has most text\n",
    "# most common word\n",
    "JavaScript_words = ' '.join(train[train.language == 'JavaScript'].clean_text)\n",
    "Java_words = ' '.join(train[train.language == 'Java'].clean_text)\n",
    "Python_words = ' '.join(train[train.language == 'Python'].clean_text)\n",
    "TypeScript_words = ' '.join(train[train.language == 'TypeScript'].clean_text)\n",
    "all_words = ' '.join(train.clean_text)"
   ]
  },
  {
   "cell_type": "code",
   "execution_count": 26,
   "id": "dc7c68a4",
   "metadata": {},
   "outputs": [],
   "source": [
    "JavaScript_freq = pd.Series(JavaScript_words).value_counts()\n",
    "Java_freq = pd.Series(Java_words).value_counts()\n",
    "Python_freq = pd.Series(Python_words).value_counts()\n",
    "TypeScript_freq = pd.Series(TypeScript_words).value_counts()\n",
    "all_freq = pd.Series(all_words).value_counts()"
   ]
  },
  {
   "cell_type": "code",
   "execution_count": 27,
   "id": "66e10454",
   "metadata": {},
   "outputs": [],
   "source": [
    "JavaScript_freq = pd.Series(str(JavaScript_freq).split(' '))\n",
    "Java_freq = pd.Series(str(Java_freq).split(' '))\n",
    "Python_freq = pd.Series(str(Python_freq).split(' '))\n",
    "TypeScript_freq = pd.Series(str(TypeScript_freq).split(' '))\n",
    "all_freq = pd.Series(str(all_freq).split(' '))"
   ]
  },
  {
   "cell_type": "code",
   "execution_count": 28,
   "id": "59bf9fd4",
   "metadata": {},
   "outputs": [
    {
     "data": {
      "text/plain": [
       "(11204, 97363, 46006, 23706, 178264)"
      ]
     },
     "execution_count": 28,
     "metadata": {},
     "output_type": "execute_result"
    }
   ],
   "source": [
    "#The language with the highest number of words is JavaScript\n",
    "#The lowest is number is Java\n",
    "Java_freq.count(), JavaScript_freq.count(), Python_freq.count(), TypeScript_freq.count(), all_freq.count()"
   ]
  },
  {
   "cell_type": "code",
   "execution_count": 29,
   "id": "26f32344",
   "metadata": {},
   "outputs": [
    {
     "data": {
      "text/plain": [
       "848.8761904761905"
      ]
     },
     "execution_count": 29,
     "metadata": {},
     "output_type": "execute_result"
    }
   ],
   "source": [
    "all_freq.count()/len(train.language)"
   ]
  },
  {
   "cell_type": "code",
   "execution_count": 30,
   "id": "c65cdd64",
   "metadata": {},
   "outputs": [
    {
     "data": {
      "image/png": "[encoded data removed]",
      "text/plain": [
       "<Figure size 720x360 with 1 Axes>"
      ]
     },
     "metadata": {
      "needs_background": "light"
     },
     "output_type": "display_data"
    }
   ],
   "source": [
    "fig = plt.figure(figsize = (10, 5))\n",
    "ax = fig.add_axes([0,0,1,1])\n",
    "langs = ['Java', 'JavaScript', 'Python', 'TypeScript']\n",
    "language = [Java_freq.count(), JavaScript_freq.count(), Python_freq.count(), TypeScript_freq.count()]\n",
    "ax.bar(langs,language, color = 'red')\n",
    "plt.xlabel(\"Language used\")\n",
    "plt.ylabel(\"Number of words\")\n",
    "plt.title(\"Number of words per language\")\n",
    "\n",
    "plt.show()"
   ]
  },
  {
   "cell_type": "code",
   "execution_count": 31,
   "id": "4b042564",
   "metadata": {},
   "outputs": [
    {
     "data": {
      "image/png": "[encoded data removed]",
      "text/plain": [
       "<Figure size 720x360 with 1 Axes>"
      ]
     },
     "metadata": {
      "needs_background": "light"
     },
     "output_type": "display_data"
    }
   ],
   "source": [
    "fig = plt.figure(figsize = (10, 5))\n",
    "ax = fig.add_axes([0,0,1,1])\n",
    "langs = ['Java', 'JavaScript', 'Python', 'TypeScript']\n",
    "language = [len(train[train.language == 'Java']), len(train[train.language == 'JavaScript']), len(train[train.language == 'Python']), len(train[train.language == 'TypeScript'])]\n",
    "ax.bar(langs,language, color = 'red')\n",
    "plt.xlabel(\"Language used\")\n",
    "plt.ylabel(\" \")\n",
    "plt.title(\"What language is most commonly used in our dataset\")\n",
    "\n",
    "plt.show()"
   ]
  },
  {
   "cell_type": "code",
   "execution_count": 32,
   "id": "6947dd1b",
   "metadata": {},
   "outputs": [
    {
     "data": {
      "text/plain": [
       "(11204, 97363, 46006, 23706)"
      ]
     },
     "execution_count": 32,
     "metadata": {},
     "output_type": "execute_result"
    }
   ],
   "source": [
    "Java_freq.count(), JavaScript_freq.count(), Python_freq.count(), TypeScript_freq.count()"
   ]
  },
  {
   "cell_type": "code",
   "execution_count": 33,
   "id": "41a01897",
   "metadata": {},
   "outputs": [
    {
     "data": {
      "text/plain": [
       "(35, 94, 49, 32)"
      ]
     },
     "execution_count": 33,
     "metadata": {},
     "output_type": "execute_result"
    }
   ],
   "source": [
    "len(train[train.language == 'Java']), len(train[train.language == 'JavaScript']), len(train[train.language == 'Python']), len(train[train.language == 'TypeScript'])"
   ]
  },
  {
   "cell_type": "code",
   "execution_count": 36,
   "id": "873978f4",
   "metadata": {},
   "outputs": [
    {
     "data": {
      "image/png": "[encoded data removed]",
      "text/plain": [
       "<Figure size 720x360 with 1 Axes>"
      ]
     },
     "metadata": {
      "needs_background": "light"
     },
     "output_type": "display_data"
    }
   ],
   "source": [
    "fig = plt.figure(figsize = (10, 5))\n",
    "ax = fig.add_axes([0,0,1,1])\n",
    "langs = ['All','Java', 'JavaScript', 'Python', 'TypeScript']\n",
    "language = [all_freq.count()/len(train.language), Java_freq.count()/len(train[train.language == 'Java']), JavaScript_freq.count()/len(train[train.language == 'JavaScript']), Python_freq.count()/len(train[train.language == 'Python']), TypeScript_freq.count()/len(train[train.language == 'TypeScript'])]\n",
    "ax.bar(langs,language, color = 'red')\n",
    "plt.xlabel(\"Language used\")\n",
    "plt.ylabel(\"Number of words\")\n",
    "plt.title(\"What is the average word count for each language?\")\n",
    "\n",
    "plt.show()"
   ]
  },
  {
   "cell_type": "code",
   "execution_count": 37,
   "id": "631c10b3",
   "metadata": {},
   "outputs": [
    {
     "data": {
      "text/html": [
       "<div>\n",
       "<style scoped>\n",
       "    .dataframe tbody tr th:only-of-type {\n",
       "        vertical-align: middle;\n",
       "    }\n",
       "\n",
       "    .dataframe tbody tr th {\n",
       "        vertical-align: top;\n",
       "    }\n",
       "\n",
       "    .dataframe thead th {\n",
       "        text-align: right;\n",
       "    }\n",
       "</style>\n",
       "<table border=\"1\" class=\"dataframe\">\n",
       "  <thead>\n",
       "    <tr style=\"text-align: right;\">\n",
       "      <th></th>\n",
       "      <th>repo</th>\n",
       "      <th>language</th>\n",
       "      <th>readme_contents</th>\n",
       "      <th>clean_text</th>\n",
       "    </tr>\n",
       "  </thead>\n",
       "  <tbody>\n",
       "    <tr>\n",
       "      <th>147</th>\n",
       "      <td>pure-css/pure</td>\n",
       "      <td>JavaScript</td>\n",
       "      <td># Pure\\n\\n[![Pure](https://cloud.githubusercon...</td>\n",
       "      <td>pure purehttpscloudgithubusercontentcomassets4...</td>\n",
       "    </tr>\n",
       "    <tr>\n",
       "      <th>80</th>\n",
       "      <td>fex-team/fis3-demo</td>\n",
       "      <td>JavaScript</td>\n",
       "      <td>## fis3 demo\\n\\n聚集一些 fis3 的常用例子，每一个目录都是一个 fis3...</td>\n",
       "      <td>fis3 demo fis3 fis3 uselessuseless le usesassu...</td>\n",
       "    </tr>\n",
       "    <tr>\n",
       "      <th>320</th>\n",
       "      <td>openexchangerates/accounting.js</td>\n",
       "      <td>JavaScript</td>\n",
       "      <td>**accounting.js** is a tiny JavaScript library...</td>\n",
       "      <td>accountingjs tiny javascript library number mo...</td>\n",
       "    </tr>\n",
       "    <tr>\n",
       "      <th>66</th>\n",
       "      <td>Binaryify/NeteaseCloudMusicApi</td>\n",
       "      <td>JavaScript</td>\n",
       "      <td># 网易云音乐 API\\n\\n网易云音乐 Node.js API service\\n\\n&lt;p...</td>\n",
       "      <td>api nodejs api service p hrefhttpswwwnpmjscomp...</td>\n",
       "    </tr>\n",
       "    <tr>\n",
       "      <th>150</th>\n",
       "      <td>akveo/ngx-admin</td>\n",
       "      <td>TypeScript</td>\n",
       "      <td># ngx-admin [&lt;img src=\"https://i.imgur.com/oMc...</td>\n",
       "      <td>ngxadmin img srchttpsiimgurcomomcxwz0png altev...</td>\n",
       "    </tr>\n",
       "    <tr>\n",
       "      <th>...</th>\n",
       "      <td>...</td>\n",
       "      <td>...</td>\n",
       "      <td>...</td>\n",
       "      <td>...</td>\n",
       "    </tr>\n",
       "    <tr>\n",
       "      <th>372</th>\n",
       "      <td>jquery-form/form</td>\n",
       "      <td>JavaScript</td>\n",
       "      <td># jQuery Form [![Build Status](https://travis-...</td>\n",
       "      <td>jquery form build statushttpstravisciorgjquery...</td>\n",
       "    </tr>\n",
       "    <tr>\n",
       "      <th>125</th>\n",
       "      <td>goldbergyoni/javascript-testing-best-practices</td>\n",
       "      <td>JavaScript</td>\n",
       "      <td>&lt;img src=\"/assets/jtbp-header-blue.png\" width=...</td>\n",
       "      <td>img srcassetsjtbpheaderbluepng width1920px br ...</td>\n",
       "    </tr>\n",
       "    <tr>\n",
       "      <th>117</th>\n",
       "      <td>oitozero/ngSweetAlert</td>\n",
       "      <td>JavaScript</td>\n",
       "      <td># AngularJS wrapper for SweetAlert\\r\\n\\r\\nAngu...</td>\n",
       "      <td>angularjs wrapper sweetalert angularjs wrapper...</td>\n",
       "    </tr>\n",
       "    <tr>\n",
       "      <th>124</th>\n",
       "      <td>assaf/zombie</td>\n",
       "      <td>JavaScript</td>\n",
       "      <td># Zombie.js\\n### Insanely fast, headless full-...</td>\n",
       "      <td>zombiejs insanely fast headless fullstack test...</td>\n",
       "    </tr>\n",
       "    <tr>\n",
       "      <th>263</th>\n",
       "      <td>remarkjs/remark</td>\n",
       "      <td>JavaScript</td>\n",
       "      <td># ![remark][logo]\\n\\n[![Build][build-badge]][b...</td>\n",
       "      <td>remarklogo buildbuildbadgebuild coveragecovera...</td>\n",
       "    </tr>\n",
       "  </tbody>\n",
       "</table>\n",
       "<p>210 rows × 4 columns</p>\n",
       "</div>"
      ],
      "text/plain": [
       "                                               repo    language  \\\n",
       "147                                   pure-css/pure  JavaScript   \n",
       "80                               fex-team/fis3-demo  JavaScript   \n",
       "320                 openexchangerates/accounting.js  JavaScript   \n",
       "66                   Binaryify/NeteaseCloudMusicApi  JavaScript   \n",
       "150                                 akveo/ngx-admin  TypeScript   \n",
       "..                                              ...         ...   \n",
       "372                                jquery-form/form  JavaScript   \n",
       "125  goldbergyoni/javascript-testing-best-practices  JavaScript   \n",
       "117                           oitozero/ngSweetAlert  JavaScript   \n",
       "124                                    assaf/zombie  JavaScript   \n",
       "263                                 remarkjs/remark  JavaScript   \n",
       "\n",
       "                                       readme_contents  \\\n",
       "147  # Pure\\n\\n[![Pure](https://cloud.githubusercon...   \n",
       "80   ## fis3 demo\\n\\n聚集一些 fis3 的常用例子，每一个目录都是一个 fis3...   \n",
       "320  **accounting.js** is a tiny JavaScript library...   \n",
       "66   # 网易云音乐 API\\n\\n网易云音乐 Node.js API service\\n\\n<p...   \n",
       "150  # ngx-admin [<img src=\"https://i.imgur.com/oMc...   \n",
       "..                                                 ...   \n",
       "372  # jQuery Form [![Build Status](https://travis-...   \n",
       "125  <img src=\"/assets/jtbp-header-blue.png\" width=...   \n",
       "117  # AngularJS wrapper for SweetAlert\\r\\n\\r\\nAngu...   \n",
       "124  # Zombie.js\\n### Insanely fast, headless full-...   \n",
       "263  # ![remark][logo]\\n\\n[![Build][build-badge]][b...   \n",
       "\n",
       "                                            clean_text  \n",
       "147  pure purehttpscloudgithubusercontentcomassets4...  \n",
       "80   fis3 demo fis3 fis3 uselessuseless le usesassu...  \n",
       "320  accountingjs tiny javascript library number mo...  \n",
       "66   api nodejs api service p hrefhttpswwwnpmjscomp...  \n",
       "150  ngxadmin img srchttpsiimgurcomomcxwz0png altev...  \n",
       "..                                                 ...  \n",
       "372  jquery form build statushttpstravisciorgjquery...  \n",
       "125  img srcassetsjtbpheaderbluepng width1920px br ...  \n",
       "117  angularjs wrapper sweetalert angularjs wrapper...  \n",
       "124  zombiejs insanely fast headless fullstack test...  \n",
       "263  remarklogo buildbuildbadgebuild coveragecovera...  \n",
       "\n",
       "[210 rows x 4 columns]"
      ]
     },
     "execution_count": 37,
     "metadata": {},
     "output_type": "execute_result"
    }
   ],
   "source": [
    "train"
   ]
  },
  {
   "cell_type": "code",
   "execution_count": 79,
   "id": "9be6f79b",
   "metadata": {},
   "outputs": [],
   "source": [
    "def get_chi_language(train):\n",
    "    observed = pd.crosstab(train.clean_text, train.language)\n",
    "    chi2, p, degf, expected = stats.chi2_contingency(observed)\n",
    "    print(f'chi^2 = {chi2:.4f}')\n",
    "    print(f'p     = {p:.4f}')"
   ]
  },
  {
   "cell_type": "code",
   "execution_count": 80,
   "id": "664cf3df",
   "metadata": {},
   "outputs": [
    {
     "name": "stdout",
     "output_type": "stream",
     "text": [
      "chi^2 = 630.0000\n",
      "p     = 0.4588\n"
     ]
    }
   ],
   "source": [
    "get_chi_language(train)"
   ]
  },
  {
   "cell_type": "code",
   "execution_count": 81,
   "id": "de75d27e",
   "metadata": {},
   "outputs": [
    {
     "data": {
      "text/plain": [
       "147    False\n",
       "80     False\n",
       "320    False\n",
       "66     False\n",
       "150    False\n",
       "       ...  \n",
       "372    False\n",
       "125    False\n",
       "117    False\n",
       "124    False\n",
       "263    False\n",
       "Name: language, Length: 210, dtype: bool"
      ]
     },
     "execution_count": 81,
     "metadata": {},
     "output_type": "execute_result"
    }
   ],
   "source": [
    "train.language == 'Java'"
   ]
  },
  {
   "cell_type": "code",
   "execution_count": null,
   "id": "ad9ca19e",
   "metadata": {},
   "outputs": [],
   "source": []
  }
 ],
 "metadata": {
  "kernelspec": {
   "display_name": "Python 3 (ipykernel)",
   "language": "python",
   "name": "python3"
  },
  "language_info": {
   "codemirror_mode": {
    "name": "ipython",
    "version": 3
   },
   "file_extension": ".py",
   "mimetype": "text/x-python",
   "name": "python",
   "nbconvert_exporter": "python",
   "pygments_lexer": "ipython3",
   "version": "3.9.12"
  }
 },
 "nbformat": 4,
 "nbformat_minor": 5
}
